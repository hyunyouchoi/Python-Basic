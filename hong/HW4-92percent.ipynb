{
 "cells": [
  {
   "cell_type": "markdown",
   "metadata": {},
   "source": [
    "## Deep Convolutional Neural Networks (CNN) with Keras + TensorFlow\n",
    "----------------------------------------------------------------------------------------------\n",
    "----------------------------------------------------------------------------------------------"
   ]
  },
  {
   "cell_type": "markdown",
   "metadata": {},
   "source": [
    "# HongSuk Choi"
   ]
  },
  {
   "cell_type": "code",
   "execution_count": 2,
   "metadata": {},
   "outputs": [
    {
     "data": {
      "text/plain": [
       "['',\n",
       " 'C:\\\\Users\\\\ic07949\\\\AppData\\\\Local\\\\Continuum\\\\anaconda3\\\\python36.zip',\n",
       " 'C:\\\\Users\\\\ic07949\\\\AppData\\\\Local\\\\Continuum\\\\anaconda3\\\\DLLs',\n",
       " 'C:\\\\Users\\\\ic07949\\\\AppData\\\\Local\\\\Continuum\\\\anaconda3\\\\lib',\n",
       " 'C:\\\\Users\\\\ic07949\\\\AppData\\\\Local\\\\Continuum\\\\anaconda3',\n",
       " 'C:\\\\Users\\\\ic07949\\\\AppData\\\\Local\\\\Continuum\\\\anaconda3\\\\lib\\\\site-packages',\n",
       " 'C:\\\\Users\\\\ic07949\\\\AppData\\\\Local\\\\Continuum\\\\anaconda3\\\\lib\\\\site-packages\\\\win32',\n",
       " 'C:\\\\Users\\\\ic07949\\\\AppData\\\\Local\\\\Continuum\\\\anaconda3\\\\lib\\\\site-packages\\\\win32\\\\lib',\n",
       " 'C:\\\\Users\\\\ic07949\\\\AppData\\\\Local\\\\Continuum\\\\anaconda3\\\\lib\\\\site-packages\\\\Pythonwin',\n",
       " 'C:\\\\Users\\\\ic07949\\\\AppData\\\\Local\\\\Continuum\\\\anaconda3\\\\lib\\\\site-packages\\\\IPython\\\\extensions',\n",
       " 'C:\\\\Users\\\\ic07949\\\\.ipython']"
      ]
     },
     "execution_count": 2,
     "metadata": {},
     "output_type": "execute_result"
    }
   ],
   "source": [
    "import sys; sys.path"
   ]
  },
  {
   "cell_type": "code",
   "execution_count": 1,
   "metadata": {},
   "outputs": [
    {
     "name": "stderr",
     "output_type": "stream",
     "text": [
      "C:\\Users\\ic07949\\AppData\\Local\\Continuum\\anaconda3\\lib\\site-packages\\h5py\\__init__.py:36: FutureWarning: Conversion of the second argument of issubdtype from `float` to `np.floating` is deprecated. In future, it will be treated as `np.float64 == np.dtype(float).type`.\n",
      "  from ._conv import register_converters as _register_converters\n",
      "Using TensorFlow backend.\n"
     ]
    }
   ],
   "source": [
    "\n",
    "# \"Sequential\" model lets us to define a stack of neural network layers\n",
    "from keras.models import Sequential\n",
    "\n",
    "# import the \"core\" layers:\n",
    "from keras.layers import Dense, Dropout, Activation, Flatten\n",
    "\n",
    "import numpy as np\n",
    "np.random.seed(0)"
   ]
  },
  {
   "cell_type": "code",
   "execution_count": 2,
   "metadata": {},
   "outputs": [],
   "source": [
    "# CNN\n",
    "from keras.layers import Convolution2D, MaxPooling2D"
   ]
  },
  {
   "cell_type": "code",
   "execution_count": 3,
   "metadata": {},
   "outputs": [],
   "source": [
    "# import some utilities to transform our data\n",
    "from keras.utils import np_utils"
   ]
  },
  {
   "cell_type": "code",
   "execution_count": 271,
   "metadata": {},
   "outputs": [],
   "source": [
    "from keras.optimizers import SGD"
   ]
  },
  {
   "cell_type": "markdown",
   "metadata": {},
   "source": [
    "## Let's use the Fashion-MNIST Dataset including 60,000 28x28 grayscale images of 10 fashion categories, along with a test set of 10,000 images:\n",
    "\n",
    "0:\tT-shirt/top, \n",
    "1:\tTrouser,\n",
    "2:\tPullover,\n",
    "3:\tDress,\n",
    "4:\tCoat,\n",
    "5:\tSandal,\n",
    "6:\tShirt,\n",
    "7:\tSneaker,\n",
    "8:\tBag,\n",
    "9:\tAnkle boot "
   ]
  },
  {
   "cell_type": "code",
   "execution_count": 248,
   "metadata": {},
   "outputs": [],
   "source": [
    "# Keras will download MNIST dataset for us:\n",
    "from keras.datasets import fashion_mnist\n",
    " \n",
    "# By default, the first 60k of MNIST has been defined as training and the rest as testing set: \n",
    "(X_train, y_train), (X_test, y_test) = fashion_mnist.load_data()"
   ]
  },
  {
   "cell_type": "code",
   "execution_count": 249,
   "metadata": {},
   "outputs": [
    {
     "name": "stdout",
     "output_type": "stream",
     "text": [
      "(60000, 28, 28)\n",
      "(10000, 28, 28)\n"
     ]
    }
   ],
   "source": [
    "print(X_train.shape)\n",
    "print(X_test.shape)"
   ]
  },
  {
   "cell_type": "code",
   "execution_count": 250,
   "metadata": {},
   "outputs": [
    {
     "data": {
      "image/png": "[encoded data removed]",
      "text/plain": [
       "<matplotlib.figure.Figure at 0x1ad2c6a0>"
      ]
     },
     "metadata": {},
     "output_type": "display_data"
    },
    {
     "data": {
      "image/png": "[encoded data removed]",
      "text/plain": [
       "<matplotlib.figure.Figure at 0x11f35748>"
      ]
     },
     "metadata": {},
     "output_type": "display_data"
    },
    {
     "data": {
      "image/png": "[encoded data removed]",
      "text/plain": [
       "<matplotlib.figure.Figure at 0x1c317fd0>"
      ]
     },
     "metadata": {},
     "output_type": "display_data"
    },
    {
     "data": {
      "image/png": "[encoded data removed]",
      "text/plain": [
       "<matplotlib.figure.Figure at 0x1c35ec18>"
      ]
     },
     "metadata": {},
     "output_type": "display_data"
    }
   ],
   "source": [
    "%matplotlib inline\n",
    "\n",
    "import matplotlib.image as mpimg\n",
    "import matplotlib.pyplot as plt\n",
    "\n",
    "imgplot = plt.imshow(X_train[3,:,:],cmap='viridis')\n",
    "plt.show()\n",
    "imgplot = plt.imshow(X_train[16,:,:],cmap='viridis')\n",
    "plt.show()\n",
    "imgplot = plt.imshow(X_train[1,:,:],cmap='plasma')\n",
    "plt.show()\n",
    "imgplot = plt.imshow(X_train[9,:,:],cmap='magma')\n",
    "plt.show()"
   ]
  },
  {
   "cell_type": "code",
   "execution_count": 251,
   "metadata": {},
   "outputs": [],
   "source": [
    "X_train = X_train.reshape(X_train.shape[0], 28, 28, 1)\n",
    "X_test = X_test.reshape(X_test.shape[0], 28, 28, 1)"
   ]
  },
  {
   "cell_type": "code",
   "execution_count": 252,
   "metadata": {},
   "outputs": [
    {
     "name": "stdout",
     "output_type": "stream",
     "text": [
      "(60000, 28, 28, 1)\n",
      "(10000, 28, 28, 1)\n"
     ]
    }
   ],
   "source": [
    "print(X_train.shape)\n",
    "print(X_test.shape)"
   ]
  },
  {
   "cell_type": "code",
   "execution_count": 253,
   "metadata": {},
   "outputs": [],
   "source": [
    "# simply normalize the features to the range of [0,1]:\n",
    "X_train = X_train.astype('float32')\n",
    "X_test = X_test.astype('float32')\n",
    "X_train /= 255\n",
    "X_test /= 255"
   ]
  },
  {
   "cell_type": "code",
   "execution_count": 254,
   "metadata": {},
   "outputs": [
    {
     "name": "stdout",
     "output_type": "stream",
     "text": [
      "(60000,)\n",
      "[9 0 0 3 0 2 7 2 5 5]\n"
     ]
    }
   ],
   "source": [
    "# output label:\n",
    "print (y_train.shape)\n",
    "print (y_train[:10])"
   ]
  },
  {
   "cell_type": "code",
   "execution_count": 255,
   "metadata": {},
   "outputs": [],
   "source": [
    "# OneHotEncoding for the output label:\n",
    "y_train = np_utils.to_categorical(y_train, 10)\n",
    "y_test = np_utils.to_categorical(y_test, 10)\n"
   ]
  },
  {
   "cell_type": "code",
   "execution_count": 256,
   "metadata": {},
   "outputs": [
    {
     "name": "stdout",
     "output_type": "stream",
     "text": [
      "(60000, 10)\n",
      "[[0. 0. 0. 0. 0. 0. 0. 0. 0. 1.]\n",
      " [1. 0. 0. 0. 0. 0. 0. 0. 0. 0.]\n",
      " [1. 0. 0. 0. 0. 0. 0. 0. 0. 0.]\n",
      " [0. 0. 0. 1. 0. 0. 0. 0. 0. 0.]\n",
      " [1. 0. 0. 0. 0. 0. 0. 0. 0. 0.]\n",
      " [0. 0. 1. 0. 0. 0. 0. 0. 0. 0.]\n",
      " [0. 0. 0. 0. 0. 0. 0. 1. 0. 0.]\n",
      " [0. 0. 1. 0. 0. 0. 0. 0. 0. 0.]\n",
      " [0. 0. 0. 0. 0. 1. 0. 0. 0. 0.]\n",
      " [0. 0. 0. 0. 0. 1. 0. 0. 0. 0.]]\n"
     ]
    }
   ],
   "source": [
    "# Label after OneHotEncoding:\n",
    "print (y_train.shape)\n",
    "print (y_train[:10])"
   ]
  },
  {
   "cell_type": "markdown",
   "metadata": {},
   "source": [
    "## Define the Network Architecture (model):"
   ]
  },
  {
   "cell_type": "code",
   "execution_count": 298,
   "metadata": {},
   "outputs": [],
   "source": [
    "# Declare Sequential model fro our network:\n",
    "model = Sequential()"
   ]
  },
  {
   "cell_type": "code",
   "execution_count": 299,
   "metadata": {},
   "outputs": [],
   "source": [
    "# CNN first layer (with 32 3x3 filter):\n",
    "model.add(Convolution2D(32, (3, 3), activation='relu', input_shape=(28,28,1)))\n",
    "#print(model.output_shape) # -> (None, 26, 26, 32)\n",
    "\n",
    "# If your image batch is of N images of HxW size with C channels: \n",
    "# theano uses the NCHW ordering while tensorflow uses the NHWC ordering."
   ]
  },
  {
   "cell_type": "code",
   "execution_count": 300,
   "metadata": {},
   "outputs": [],
   "source": [
    "# more hidden layers:\n",
    "model.add(Convolution2D(32, (3, 3), activation='relu'))\n",
    "model.add(MaxPooling2D(pool_size=(2,2)))\n",
    "model.add(Dropout(0.25))\n",
    "model.add(MaxPooling2D(pool_size=(3,3)))\n",
    "model.add(Dropout(0.25))"
   ]
  },
  {
   "cell_type": "code",
   "execution_count": 301,
   "metadata": {},
   "outputs": [],
   "source": [
    "# output Fully connected Dense layers:\n",
    "model.add(Flatten())\n",
    "model.add(Dense(1000, activation='relu'))\n",
    "model.add(Dropout(0.2))\n",
    "model.add(Dense(100, activation='softmax'))\n",
    "model.add(Dropout(0.5))\n",
    "model.add(Dense(10, activation='softmax'))"
   ]
  },
  {
   "cell_type": "markdown",
   "metadata": {},
   "source": [
    "## Compile the model:\n",
    "#### We need to compile the model and then it will be ready to train it:"
   ]
  },
  {
   "cell_type": "code",
   "execution_count": 302,
   "metadata": {},
   "outputs": [
    {
     "name": "stdout",
     "output_type": "stream",
     "text": [
      "_________________________________________________________________\n",
      "Layer (type)                 Output Shape              Param #   \n",
      "=================================================================\n",
      "conv2d_50 (Conv2D)           (None, 26, 26, 32)        320       \n",
      "_________________________________________________________________\n",
      "conv2d_51 (Conv2D)           (None, 24, 24, 32)        9248      \n",
      "_________________________________________________________________\n",
      "max_pooling2d_22 (MaxPooling (None, 12, 12, 32)        0         \n",
      "_________________________________________________________________\n",
      "dropout_53 (Dropout)         (None, 12, 12, 32)        0         \n",
      "_________________________________________________________________\n",
      "max_pooling2d_23 (MaxPooling (None, 4, 4, 32)          0         \n",
      "_________________________________________________________________\n",
      "dropout_54 (Dropout)         (None, 4, 4, 32)          0         \n",
      "_________________________________________________________________\n",
      "flatten_29 (Flatten)         (None, 512)               0         \n",
      "_________________________________________________________________\n",
      "dense_56 (Dense)             (None, 1000)              513000    \n",
      "_________________________________________________________________\n",
      "dropout_55 (Dropout)         (None, 1000)              0         \n",
      "_________________________________________________________________\n",
      "dense_57 (Dense)             (None, 100)               100100    \n",
      "_________________________________________________________________\n",
      "dropout_56 (Dropout)         (None, 100)               0         \n",
      "_________________________________________________________________\n",
      "dense_58 (Dense)             (None, 10)                1010      \n",
      "=================================================================\n",
      "Total params: 623,678\n",
      "Trainable params: 623,678\n",
      "Non-trainable params: 0\n",
      "_________________________________________________________________\n",
      "None\n"
     ]
    }
   ],
   "source": [
    "model.compile(loss='categorical_crossentropy',metrics=['accuracy'],optimizer='adam')\n",
    "# more info about loss functions: https://keras.io/losses\n",
    "# more infor about Optimizers: https://keras.io/optimizers\n",
    "#sgd = optimizers.SGD(lr=0.01, decay=1e-6, momentum=0.9, nesterov=True)\n",
    "#sgd = SGD(lr=0.01, decay=1e-6, momentum=0.9, nesterov=True)\n",
    "#model.compile( loss = \"categorical_crossentropy\", optimizer = sgd,  metrics=['accuracy'] )\n",
    "\n",
    "#opt = SGD(lr=0.01)\n",
    "\n",
    "#model.compile(loss = \"categorical_crossentropy\", optimizer = opt, metrics=['accuracy'])\n",
    "print(model.summary())"
   ]
  },
  {
   "cell_type": "code",
   "execution_count": 276,
   "metadata": {},
   "outputs": [],
   "source": []
  },
  {
   "cell_type": "markdown",
   "metadata": {},
   "source": [
    "## Training:"
   ]
  },
  {
   "cell_type": "code",
   "execution_count": 309,
   "metadata": {
    "scrolled": false
   },
   "outputs": [
    {
     "name": "stdout",
     "output_type": "stream",
     "text": [
      "Epoch 1/300\n",
      "60000/60000 [==============================] - 65s 1ms/step - loss: 0.1765 - acc: 0.9438\n",
      "Epoch 2/300\n",
      "60000/60000 [==============================] - 64s 1ms/step - loss: 0.1728 - acc: 0.9435\n",
      "Epoch 3/300\n",
      "60000/60000 [==============================] - 64s 1ms/step - loss: 0.1734 - acc: 0.9435\n",
      "Epoch 4/300\n",
      "60000/60000 [==============================] - 66s 1ms/step - loss: 0.1758 - acc: 0.9444\n",
      "Epoch 5/300\n",
      "60000/60000 [==============================] - 66s 1ms/step - loss: 0.1748 - acc: 0.9428\n",
      "Epoch 6/300\n",
      "60000/60000 [==============================] - 67s 1ms/step - loss: 0.1674 - acc: 0.9460\n",
      "Epoch 7/300\n",
      "60000/60000 [==============================] - 65s 1ms/step - loss: 0.1712 - acc: 0.9452\n",
      "Epoch 8/300\n",
      "60000/60000 [==============================] - 64s 1ms/step - loss: 0.1720 - acc: 0.9433\n",
      "Epoch 9/300\n",
      "60000/60000 [==============================] - 64s 1ms/step - loss: 0.1702 - acc: 0.9446\n",
      "Epoch 10/300\n",
      "60000/60000 [==============================] - 64s 1ms/step - loss: 0.1702 - acc: 0.9449\n",
      "Epoch 11/300\n",
      "60000/60000 [==============================] - 65s 1ms/step - loss: 0.1695 - acc: 0.9449\n",
      "Epoch 12/300\n",
      "60000/60000 [==============================] - 65s 1ms/step - loss: 0.1670 - acc: 0.9466\n",
      "Epoch 13/300\n",
      "60000/60000 [==============================] - 65s 1ms/step - loss: 0.1641 - acc: 0.9475\n",
      "Epoch 14/300\n",
      "60000/60000 [==============================] - 65s 1ms/step - loss: 0.1663 - acc: 0.9465\n",
      "Epoch 15/300\n",
      "60000/60000 [==============================] - 66s 1ms/step - loss: 0.1680 - acc: 0.9456\n",
      "Epoch 16/300\n",
      "60000/60000 [==============================] - 67s 1ms/step - loss: 0.1666 - acc: 0.9455\n",
      "Epoch 17/300\n",
      "60000/60000 [==============================] - 67s 1ms/step - loss: 0.1645 - acc: 0.9462\n",
      "Epoch 18/300\n",
      "60000/60000 [==============================] - 67s 1ms/step - loss: 0.1639 - acc: 0.9468\n",
      "Epoch 19/300\n",
      "60000/60000 [==============================] - 67s 1ms/step - loss: 0.1636 - acc: 0.9462\n",
      "Epoch 20/300\n",
      "60000/60000 [==============================] - 67s 1ms/step - loss: 0.1611 - acc: 0.9466\n",
      "Epoch 21/300\n",
      "60000/60000 [==============================] - 67s 1ms/step - loss: 0.1635 - acc: 0.9463\n",
      "Epoch 22/300\n",
      "60000/60000 [==============================] - 67s 1ms/step - loss: 0.1602 - acc: 0.9480\n",
      "Epoch 23/300\n",
      "60000/60000 [==============================] - 67s 1ms/step - loss: 0.1631 - acc: 0.9459\n",
      "Epoch 24/300\n",
      "60000/60000 [==============================] - 67s 1ms/step - loss: 0.1618 - acc: 0.9470\n",
      "Epoch 25/300\n",
      "60000/60000 [==============================] - 67s 1ms/step - loss: 0.1602 - acc: 0.9478\n",
      "Epoch 26/300\n",
      "60000/60000 [==============================] - 67s 1ms/step - loss: 0.1611 - acc: 0.9469\n",
      "Epoch 27/300\n",
      "60000/60000 [==============================] - 67s 1ms/step - loss: 0.1582 - acc: 0.9483\n",
      "Epoch 28/300\n",
      "60000/60000 [==============================] - 66s 1ms/step - loss: 0.1575 - acc: 0.9483\n",
      "Epoch 29/300\n",
      "60000/60000 [==============================] - 63s 1ms/step - loss: 0.1589 - acc: 0.9476\n",
      "Epoch 30/300\n",
      "60000/60000 [==============================] - 63s 1ms/step - loss: 0.1591 - acc: 0.9482\n",
      "Epoch 31/300\n",
      "60000/60000 [==============================] - 63s 1ms/step - loss: 0.1588 - acc: 0.9497\n",
      "Epoch 32/300\n",
      "60000/60000 [==============================] - 63s 1ms/step - loss: 0.1561 - acc: 0.9482\n",
      "Epoch 33/300\n",
      "60000/60000 [==============================] - 63s 1ms/step - loss: 0.1596 - acc: 0.9479\n",
      "Epoch 34/300\n",
      "60000/60000 [==============================] - 63s 1ms/step - loss: 0.1579 - acc: 0.9488\n",
      "Epoch 35/300\n",
      "60000/60000 [==============================] - 63s 1ms/step - loss: 0.1577 - acc: 0.9486\n",
      "Epoch 36/300\n",
      "60000/60000 [==============================] - 63s 1ms/step - loss: 0.1540 - acc: 0.9501\n",
      "Epoch 37/300\n",
      "60000/60000 [==============================] - 63s 1ms/step - loss: 0.1531 - acc: 0.9511\n",
      "Epoch 38/300\n",
      "60000/60000 [==============================] - 67s 1ms/step - loss: 0.1563 - acc: 0.9486\n",
      "Epoch 39/300\n",
      "60000/60000 [==============================] - 66s 1ms/step - loss: 0.1546 - acc: 0.9486\n",
      "Epoch 40/300\n",
      "60000/60000 [==============================] - 66s 1ms/step - loss: 0.1540 - acc: 0.9498\n",
      "Epoch 41/300\n",
      "60000/60000 [==============================] - 66s 1ms/step - loss: 0.1533 - acc: 0.9499\n",
      "Epoch 42/300\n",
      "60000/60000 [==============================] - 66s 1ms/step - loss: 0.1542 - acc: 0.9498\n",
      "Epoch 43/300\n",
      "60000/60000 [==============================] - 66s 1ms/step - loss: 0.1511 - acc: 0.9499\n",
      "Epoch 44/300\n",
      "60000/60000 [==============================] - 66s 1ms/step - loss: 0.1530 - acc: 0.9492\n",
      "Epoch 45/300\n",
      "60000/60000 [==============================] - 64s 1ms/step - loss: 0.1523 - acc: 0.9501\n",
      "Epoch 46/300\n",
      "60000/60000 [==============================] - 63s 1ms/step - loss: 0.1508 - acc: 0.9509\n",
      "Epoch 47/300\n",
      "60000/60000 [==============================] - 63s 1ms/step - loss: 0.1559 - acc: 0.9496\n",
      "Epoch 48/300\n",
      "60000/60000 [==============================] - 63s 1ms/step - loss: 0.1538 - acc: 0.9501\n",
      "Epoch 49/300\n",
      "60000/60000 [==============================] - 63s 1ms/step - loss: 0.1516 - acc: 0.9498\n",
      "Epoch 50/300\n",
      "60000/60000 [==============================] - 63s 1ms/step - loss: 0.1508 - acc: 0.9507\n",
      "Epoch 51/300\n",
      "60000/60000 [==============================] - 63s 1ms/step - loss: 0.1454 - acc: 0.9531\n",
      "Epoch 52/300\n",
      "60000/60000 [==============================] - 63s 1ms/step - loss: 0.1493 - acc: 0.9504\n",
      "Epoch 53/300\n",
      "60000/60000 [==============================] - 63s 1ms/step - loss: 0.1478 - acc: 0.9512\n",
      "Epoch 54/300\n",
      "60000/60000 [==============================] - 64s 1ms/step - loss: 0.1456 - acc: 0.9519\n",
      "Epoch 55/300\n",
      "60000/60000 [==============================] - 63s 1ms/step - loss: 0.1467 - acc: 0.9528\n",
      "Epoch 56/300\n",
      "60000/60000 [==============================] - 63s 1ms/step - loss: 0.1450 - acc: 0.9529\n",
      "Epoch 57/300\n",
      "60000/60000 [==============================] - 63s 1ms/step - loss: 0.1465 - acc: 0.9523\n",
      "Epoch 58/300\n",
      "60000/60000 [==============================] - 63s 1ms/step - loss: 0.1432 - acc: 0.9530\n",
      "Epoch 59/300\n",
      "60000/60000 [==============================] - 63s 1ms/step - loss: 0.1462 - acc: 0.9524\n",
      "Epoch 60/300\n",
      "60000/60000 [==============================] - 63s 1ms/step - loss: 0.1456 - acc: 0.9520\n",
      "Epoch 61/300\n",
      "60000/60000 [==============================] - 63s 1ms/step - loss: 0.1460 - acc: 0.9515\n",
      "Epoch 62/300\n",
      "60000/60000 [==============================] - 63s 1ms/step - loss: 0.1429 - acc: 0.9530\n",
      "Epoch 63/300\n",
      "60000/60000 [==============================] - 63s 1ms/step - loss: 0.1479 - acc: 0.9515\n",
      "Epoch 64/300\n",
      "60000/60000 [==============================] - 63s 1ms/step - loss: 0.1443 - acc: 0.9523\n",
      "Epoch 65/300\n",
      "60000/60000 [==============================] - 63s 1ms/step - loss: 0.1481 - acc: 0.9513\n",
      "Epoch 66/300\n",
      "60000/60000 [==============================] - 63s 1ms/step - loss: 0.1424 - acc: 0.9530\n",
      "Epoch 67/300\n",
      "60000/60000 [==============================] - 63s 1ms/step - loss: 0.1385 - acc: 0.9547\n",
      "Epoch 68/300\n",
      "60000/60000 [==============================] - 63s 1ms/step - loss: 0.1454 - acc: 0.9531\n",
      "Epoch 69/300\n",
      "60000/60000 [==============================] - 63s 1ms/step - loss: 0.1398 - acc: 0.9544\n",
      "Epoch 70/300\n",
      "60000/60000 [==============================] - 63s 1ms/step - loss: 0.1422 - acc: 0.9536\n",
      "Epoch 71/300\n",
      "60000/60000 [==============================] - 65s 1ms/step - loss: 0.1424 - acc: 0.9526\n",
      "Epoch 72/300\n",
      "60000/60000 [==============================] - 65s 1ms/step - loss: 0.1383 - acc: 0.9546\n",
      "Epoch 73/300\n",
      "60000/60000 [==============================] - 65s 1ms/step - loss: 0.1427 - acc: 0.9528\n",
      "Epoch 74/300\n",
      "60000/60000 [==============================] - 64s 1ms/step - loss: 0.1385 - acc: 0.9546\n",
      "Epoch 75/300\n",
      "60000/60000 [==============================] - 64s 1ms/step - loss: 0.1401 - acc: 0.9546\n",
      "Epoch 76/300\n",
      "60000/60000 [==============================] - 64s 1ms/step - loss: 0.1400 - acc: 0.9544\n",
      "Epoch 77/300\n",
      "60000/60000 [==============================] - 64s 1ms/step - loss: 0.1415 - acc: 0.9539\n",
      "Epoch 78/300\n",
      "60000/60000 [==============================] - 64s 1ms/step - loss: 0.1405 - acc: 0.9537\n",
      "Epoch 79/300\n",
      "60000/60000 [==============================] - 65s 1ms/step - loss: 0.1408 - acc: 0.9543\n",
      "Epoch 80/300\n",
      "60000/60000 [==============================] - 65s 1ms/step - loss: 0.1403 - acc: 0.9531\n",
      "Epoch 81/300\n"
     ]
    },
    {
     "name": "stdout",
     "output_type": "stream",
     "text": [
      "60000/60000 [==============================] - 64s 1ms/step - loss: 0.1403 - acc: 0.9535\n",
      "Epoch 82/300\n",
      "60000/60000 [==============================] - 64s 1ms/step - loss: 0.1438 - acc: 0.9523\n",
      "Epoch 83/300\n",
      "60000/60000 [==============================] - 64s 1ms/step - loss: 0.1355 - acc: 0.9559\n",
      "Epoch 84/300\n",
      "60000/60000 [==============================] - 64s 1ms/step - loss: 0.1382 - acc: 0.9545\n",
      "Epoch 85/300\n",
      "60000/60000 [==============================] - 64s 1ms/step - loss: 0.1362 - acc: 0.9557\n",
      "Epoch 86/300\n",
      "60000/60000 [==============================] - 64s 1ms/step - loss: 0.1396 - acc: 0.9548\n",
      "Epoch 87/300\n",
      "60000/60000 [==============================] - 62s 1ms/step - loss: 0.1337 - acc: 0.9558\n",
      "Epoch 88/300\n",
      "60000/60000 [==============================] - 63s 1ms/step - loss: 0.1345 - acc: 0.9563\n",
      "Epoch 89/300\n",
      "60000/60000 [==============================] - 66s 1ms/step - loss: 0.1385 - acc: 0.9550\n",
      "Epoch 90/300\n",
      "60000/60000 [==============================] - 66s 1ms/step - loss: 0.1416 - acc: 0.9537\n",
      "Epoch 91/300\n",
      "60000/60000 [==============================] - 66s 1ms/step - loss: 0.1387 - acc: 0.9549\n",
      "Epoch 92/300\n",
      "60000/60000 [==============================] - 69s 1ms/step - loss: 0.1394 - acc: 0.9548\n",
      "Epoch 93/300\n",
      "60000/60000 [==============================] - 70s 1ms/step - loss: 0.1360 - acc: 0.9552\n",
      "Epoch 94/300\n",
      "60000/60000 [==============================] - 74s 1ms/step - loss: 0.1393 - acc: 0.9543\n",
      "Epoch 95/300\n",
      "60000/60000 [==============================] - 69s 1ms/step - loss: 0.1362 - acc: 0.9550\n",
      "Epoch 96/300\n",
      "60000/60000 [==============================] - 71s 1ms/step - loss: 0.1354 - acc: 0.9551\n",
      "Epoch 97/300\n",
      "60000/60000 [==============================] - 70s 1ms/step - loss: 0.1327 - acc: 0.9569\n",
      "Epoch 98/300\n",
      "60000/60000 [==============================] - 69s 1ms/step - loss: 0.1324 - acc: 0.9567\n",
      "Epoch 99/300\n",
      "60000/60000 [==============================] - 69s 1ms/step - loss: 0.1365 - acc: 0.9553\n",
      "Epoch 100/300\n",
      "60000/60000 [==============================] - 70s 1ms/step - loss: 0.1309 - acc: 0.9563\n",
      "Epoch 101/300\n",
      "60000/60000 [==============================] - 66s 1ms/step - loss: 0.1366 - acc: 0.9558\n",
      "Epoch 102/300\n",
      "60000/60000 [==============================] - 65s 1ms/step - loss: 0.1375 - acc: 0.9560\n",
      "Epoch 103/300\n",
      "60000/60000 [==============================] - 65s 1ms/step - loss: 0.1315 - acc: 0.9569\n",
      "Epoch 104/300\n",
      "60000/60000 [==============================] - 66s 1ms/step - loss: 0.1340 - acc: 0.9557\n",
      "Epoch 105/300\n",
      "60000/60000 [==============================] - 65s 1ms/step - loss: 0.1300 - acc: 0.9570\n",
      "Epoch 106/300\n",
      "60000/60000 [==============================] - 65s 1ms/step - loss: 0.1337 - acc: 0.9561\n",
      "Epoch 107/300\n",
      "60000/60000 [==============================] - 65s 1ms/step - loss: 0.1320 - acc: 0.9573\n",
      "Epoch 108/300\n",
      "60000/60000 [==============================] - 65s 1ms/step - loss: 0.1349 - acc: 0.9556\n",
      "Epoch 109/300\n",
      "60000/60000 [==============================] - 65s 1ms/step - loss: 0.1325 - acc: 0.9569\n",
      "Epoch 110/300\n",
      "60000/60000 [==============================] - 65s 1ms/step - loss: 0.1304 - acc: 0.9571\n",
      "Epoch 111/300\n",
      "60000/60000 [==============================] - 65s 1ms/step - loss: 0.1309 - acc: 0.9562\n",
      "Epoch 112/300\n",
      "60000/60000 [==============================] - 65s 1ms/step - loss: 0.1381 - acc: 0.9549\n",
      "Epoch 113/300\n",
      "60000/60000 [==============================] - 65s 1ms/step - loss: 0.1315 - acc: 0.9563\n",
      "Epoch 114/300\n",
      "60000/60000 [==============================] - 65s 1ms/step - loss: 0.1312 - acc: 0.9573\n",
      "Epoch 115/300\n",
      "60000/60000 [==============================] - 65s 1ms/step - loss: 0.1325 - acc: 0.9557\n",
      "Epoch 116/300\n",
      "60000/60000 [==============================] - 65s 1ms/step - loss: 0.1313 - acc: 0.9570\n",
      "Epoch 117/300\n",
      "60000/60000 [==============================] - 65s 1ms/step - loss: 0.1318 - acc: 0.9567\n",
      "Epoch 118/300\n",
      "60000/60000 [==============================] - 65s 1ms/step - loss: 0.1275 - acc: 0.9576\n",
      "Epoch 119/300\n",
      "60000/60000 [==============================] - 66s 1ms/step - loss: 0.1291 - acc: 0.9584\n",
      "Epoch 120/300\n",
      "60000/60000 [==============================] - 65s 1ms/step - loss: 0.1295 - acc: 0.9580\n",
      "Epoch 121/300\n",
      "60000/60000 [==============================] - 65s 1ms/step - loss: 0.1326 - acc: 0.9565\n",
      "Epoch 122/300\n",
      "60000/60000 [==============================] - 65s 1ms/step - loss: 0.1262 - acc: 0.9570\n",
      "Epoch 123/300\n",
      "60000/60000 [==============================] - 65s 1ms/step - loss: 0.1267 - acc: 0.9576\n",
      "Epoch 124/300\n",
      "60000/60000 [==============================] - 65s 1ms/step - loss: 0.1332 - acc: 0.9560\n",
      "Epoch 125/300\n",
      "60000/60000 [==============================] - 65s 1ms/step - loss: 0.1297 - acc: 0.9571\n",
      "Epoch 126/300\n",
      "60000/60000 [==============================] - 65s 1ms/step - loss: 0.1242 - acc: 0.9589\n",
      "Epoch 127/300\n",
      "60000/60000 [==============================] - 65s 1ms/step - loss: 0.1263 - acc: 0.9586\n",
      "Epoch 128/300\n",
      "60000/60000 [==============================] - 65s 1ms/step - loss: 0.1280 - acc: 0.9574\n",
      "Epoch 129/300\n",
      "60000/60000 [==============================] - 65s 1ms/step - loss: 0.1290 - acc: 0.9586\n",
      "Epoch 130/300\n",
      "60000/60000 [==============================] - 65s 1ms/step - loss: 0.1309 - acc: 0.9572\n",
      "Epoch 131/300\n",
      "60000/60000 [==============================] - 65s 1ms/step - loss: 0.1317 - acc: 0.9570\n",
      "Epoch 132/300\n",
      "60000/60000 [==============================] - 65s 1ms/step - loss: 0.1275 - acc: 0.9585\n",
      "Epoch 133/300\n",
      "60000/60000 [==============================] - 65s 1ms/step - loss: 0.1279 - acc: 0.9585\n",
      "Epoch 134/300\n",
      "60000/60000 [==============================] - 65s 1ms/step - loss: 0.1292 - acc: 0.9569\n",
      "Epoch 135/300\n",
      "60000/60000 [==============================] - 65s 1ms/step - loss: 0.1241 - acc: 0.9601\n",
      "Epoch 136/300\n",
      "60000/60000 [==============================] - 65s 1ms/step - loss: 0.1255 - acc: 0.9588\n",
      "Epoch 137/300\n",
      "60000/60000 [==============================] - 65s 1ms/step - loss: 0.1275 - acc: 0.9582\n",
      "Epoch 138/300\n",
      "60000/60000 [==============================] - 65s 1ms/step - loss: 0.1255 - acc: 0.9585\n",
      "Epoch 139/300\n",
      "60000/60000 [==============================] - 65s 1ms/step - loss: 0.1233 - acc: 0.9585\n",
      "Epoch 140/300\n",
      "60000/60000 [==============================] - 65s 1ms/step - loss: 0.1236 - acc: 0.9595\n",
      "Epoch 141/300\n",
      "60000/60000 [==============================] - 66s 1ms/step - loss: 0.1238 - acc: 0.9596\n",
      "Epoch 142/300\n",
      "60000/60000 [==============================] - 66s 1ms/step - loss: 0.1221 - acc: 0.9601\n",
      "Epoch 143/300\n",
      "60000/60000 [==============================] - 66s 1ms/step - loss: 0.1289 - acc: 0.9579\n",
      "Epoch 144/300\n",
      "60000/60000 [==============================] - 65s 1ms/step - loss: 0.1249 - acc: 0.9590\n",
      "Epoch 145/300\n",
      "60000/60000 [==============================] - 65s 1ms/step - loss: 0.1239 - acc: 0.9593\n",
      "Epoch 146/300\n",
      "60000/60000 [==============================] - 65s 1ms/step - loss: 0.1245 - acc: 0.9585\n",
      "Epoch 147/300\n",
      "60000/60000 [==============================] - 67s 1ms/step - loss: 0.1241 - acc: 0.9596\n",
      "Epoch 148/300\n",
      "60000/60000 [==============================] - 66s 1ms/step - loss: 0.1236 - acc: 0.9593\n",
      "Epoch 149/300\n",
      "60000/60000 [==============================] - 65s 1ms/step - loss: 0.1224 - acc: 0.9609\n",
      "Epoch 150/300\n",
      "60000/60000 [==============================] - 65s 1ms/step - loss: 0.1244 - acc: 0.9591\n",
      "Epoch 151/300\n",
      "60000/60000 [==============================] - 65s 1ms/step - loss: 0.1225 - acc: 0.9594\n",
      "Epoch 152/300\n",
      "60000/60000 [==============================] - 65s 1ms/step - loss: 0.1219 - acc: 0.9608\n",
      "Epoch 153/300\n",
      "60000/60000 [==============================] - 66s 1ms/step - loss: 0.1205 - acc: 0.9606\n",
      "Epoch 154/300\n",
      "60000/60000 [==============================] - 65s 1ms/step - loss: 0.1219 - acc: 0.9605\n",
      "Epoch 155/300\n",
      "60000/60000 [==============================] - 66s 1ms/step - loss: 0.1260 - acc: 0.9582\n",
      "Epoch 156/300\n",
      "60000/60000 [==============================] - 66s 1ms/step - loss: 0.1214 - acc: 0.9593\n",
      "Epoch 157/300\n",
      "60000/60000 [==============================] - 65s 1ms/step - loss: 0.1254 - acc: 0.9580\n",
      "Epoch 158/300\n",
      "60000/60000 [==============================] - 65s 1ms/step - loss: 0.1213 - acc: 0.9598\n",
      "Epoch 159/300\n",
      "60000/60000 [==============================] - 66s 1ms/step - loss: 0.1203 - acc: 0.9608\n",
      "Epoch 160/300\n"
     ]
    },
    {
     "name": "stdout",
     "output_type": "stream",
     "text": [
      "60000/60000 [==============================] - 65s 1ms/step - loss: 0.1232 - acc: 0.9605\n",
      "Epoch 161/300\n",
      "60000/60000 [==============================] - 65s 1ms/step - loss: 0.1182 - acc: 0.9607\n",
      "Epoch 162/300\n",
      "60000/60000 [==============================] - 65s 1ms/step - loss: 0.1229 - acc: 0.9594\n",
      "Epoch 163/300\n",
      "60000/60000 [==============================] - 65s 1ms/step - loss: 0.1274 - acc: 0.9589\n",
      "Epoch 164/300\n",
      "60000/60000 [==============================] - 65s 1ms/step - loss: 0.1233 - acc: 0.9590\n",
      "Epoch 165/300\n",
      "60000/60000 [==============================] - 65s 1ms/step - loss: 0.1208 - acc: 0.9605\n",
      "Epoch 166/300\n",
      "60000/60000 [==============================] - 65s 1ms/step - loss: 0.1197 - acc: 0.9609\n",
      "Epoch 167/300\n",
      "60000/60000 [==============================] - 64s 1ms/step - loss: 0.1216 - acc: 0.9600\n",
      "Epoch 168/300\n",
      "60000/60000 [==============================] - 64s 1ms/step - loss: 0.1241 - acc: 0.9594\n",
      "Epoch 169/300\n",
      "60000/60000 [==============================] - 64s 1ms/step - loss: 0.1210 - acc: 0.9614\n",
      "Epoch 170/300\n",
      "60000/60000 [==============================] - 65s 1ms/step - loss: 0.1223 - acc: 0.9600\n",
      "Epoch 171/300\n",
      "60000/60000 [==============================] - 65s 1ms/step - loss: 0.1210 - acc: 0.9606\n",
      "Epoch 172/300\n",
      "60000/60000 [==============================] - 64s 1ms/step - loss: 0.1196 - acc: 0.9606\n",
      "Epoch 173/300\n",
      "60000/60000 [==============================] - 64s 1ms/step - loss: 0.1261 - acc: 0.9588\n",
      "Epoch 174/300\n",
      "60000/60000 [==============================] - 64s 1ms/step - loss: 0.1208 - acc: 0.9600\n",
      "Epoch 175/300\n",
      "60000/60000 [==============================] - 64s 1ms/step - loss: 0.1183 - acc: 0.9609\n",
      "Epoch 176/300\n",
      "60000/60000 [==============================] - 64s 1ms/step - loss: 0.1157 - acc: 0.9616\n",
      "Epoch 177/300\n",
      "60000/60000 [==============================] - 64s 1ms/step - loss: 0.1143 - acc: 0.9619\n",
      "Epoch 178/300\n",
      "60000/60000 [==============================] - 64s 1ms/step - loss: 0.1216 - acc: 0.9598\n",
      "Epoch 179/300\n",
      "60000/60000 [==============================] - 64s 1ms/step - loss: 0.1172 - acc: 0.9607\n",
      "Epoch 180/300\n",
      "60000/60000 [==============================] - 66s 1ms/step - loss: 0.1178 - acc: 0.9620\n",
      "Epoch 181/300\n",
      "60000/60000 [==============================] - 67s 1ms/step - loss: 0.1193 - acc: 0.9617\n",
      "Epoch 182/300\n",
      "60000/60000 [==============================] - 65s 1ms/step - loss: 0.1209 - acc: 0.9611\n",
      "Epoch 183/300\n",
      "60000/60000 [==============================] - 64s 1ms/step - loss: 0.1198 - acc: 0.9601\n",
      "Epoch 184/300\n",
      "60000/60000 [==============================] - 66s 1ms/step - loss: 0.1198 - acc: 0.9602\n",
      "Epoch 185/300\n",
      "60000/60000 [==============================] - 64s 1ms/step - loss: 0.1166 - acc: 0.9613\n",
      "Epoch 186/300\n",
      "60000/60000 [==============================] - 64s 1ms/step - loss: 0.1186 - acc: 0.9614\n",
      "Epoch 187/300\n",
      "60000/60000 [==============================] - 64s 1ms/step - loss: 0.1199 - acc: 0.9613\n",
      "Epoch 188/300\n",
      "60000/60000 [==============================] - 64s 1ms/step - loss: 0.1198 - acc: 0.9608\n",
      "Epoch 189/300\n",
      "60000/60000 [==============================] - 64s 1ms/step - loss: 0.1201 - acc: 0.9597\n",
      "Epoch 190/300\n",
      "60000/60000 [==============================] - 64s 1ms/step - loss: 0.1168 - acc: 0.9626\n",
      "Epoch 191/300\n",
      "60000/60000 [==============================] - 64s 1ms/step - loss: 0.1196 - acc: 0.9613\n",
      "Epoch 192/300\n",
      "60000/60000 [==============================] - 64s 1ms/step - loss: 0.1142 - acc: 0.9620\n",
      "Epoch 193/300\n",
      "60000/60000 [==============================] - 64s 1ms/step - loss: 0.1143 - acc: 0.9622\n",
      "Epoch 194/300\n",
      "60000/60000 [==============================] - 64s 1ms/step - loss: 0.1202 - acc: 0.9605\n",
      "Epoch 195/300\n",
      "60000/60000 [==============================] - 64s 1ms/step - loss: 0.1169 - acc: 0.9616\n",
      "Epoch 196/300\n",
      "60000/60000 [==============================] - 66s 1ms/step - loss: 0.1157 - acc: 0.9617\n",
      "Epoch 197/300\n",
      "60000/60000 [==============================] - 65s 1ms/step - loss: 0.1168 - acc: 0.9621\n",
      "Epoch 198/300\n",
      "60000/60000 [==============================] - 64s 1ms/step - loss: 0.1132 - acc: 0.9624\n",
      "Epoch 199/300\n",
      "60000/60000 [==============================] - 64s 1ms/step - loss: 0.1191 - acc: 0.9609\n",
      "Epoch 200/300\n",
      "60000/60000 [==============================] - 64s 1ms/step - loss: 0.1153 - acc: 0.9630\n",
      "Epoch 201/300\n",
      "60000/60000 [==============================] - 64s 1ms/step - loss: 0.1146 - acc: 0.9629\n",
      "Epoch 202/300\n",
      "60000/60000 [==============================] - 64s 1ms/step - loss: 0.1148 - acc: 0.9622\n",
      "Epoch 203/300\n",
      "60000/60000 [==============================] - 64s 1ms/step - loss: 0.1179 - acc: 0.9617\n",
      "Epoch 204/300\n",
      "60000/60000 [==============================] - 64s 1ms/step - loss: 0.1207 - acc: 0.9611\n",
      "Epoch 205/300\n",
      "60000/60000 [==============================] - 64s 1ms/step - loss: 0.1163 - acc: 0.9618\n",
      "Epoch 206/300\n",
      "60000/60000 [==============================] - 65s 1ms/step - loss: 0.1152 - acc: 0.9627\n",
      "Epoch 207/300\n",
      "60000/60000 [==============================] - 65s 1ms/step - loss: 0.1130 - acc: 0.9633\n",
      "Epoch 208/300\n",
      "60000/60000 [==============================] - 68s 1ms/step - loss: 0.1149 - acc: 0.9632\n",
      "Epoch 209/300\n",
      "60000/60000 [==============================] - 70s 1ms/step - loss: 0.1175 - acc: 0.9619\n",
      "Epoch 210/300\n",
      "60000/60000 [==============================] - 69s 1ms/step - loss: 0.1138 - acc: 0.9631\n",
      "Epoch 211/300\n",
      "60000/60000 [==============================] - 69s 1ms/step - loss: 0.1161 - acc: 0.9626\n",
      "Epoch 212/300\n",
      "60000/60000 [==============================] - 69s 1ms/step - loss: 0.1157 - acc: 0.9628\n",
      "Epoch 213/300\n",
      "60000/60000 [==============================] - 69s 1ms/step - loss: 0.1159 - acc: 0.9624\n",
      "Epoch 214/300\n",
      "60000/60000 [==============================] - 69s 1ms/step - loss: 0.1148 - acc: 0.9615\n",
      "Epoch 215/300\n",
      "60000/60000 [==============================] - 68s 1ms/step - loss: 0.1157 - acc: 0.9627\n",
      "Epoch 216/300\n",
      "60000/60000 [==============================] - 68s 1ms/step - loss: 0.1171 - acc: 0.9617\n",
      "Epoch 217/300\n",
      "60000/60000 [==============================] - 68s 1ms/step - loss: 0.1142 - acc: 0.9626\n",
      "Epoch 218/300\n",
      "60000/60000 [==============================] - 68s 1ms/step - loss: 0.1141 - acc: 0.9625\n",
      "Epoch 219/300\n",
      "60000/60000 [==============================] - 68s 1ms/step - loss: 0.1131 - acc: 0.9631\n",
      "Epoch 220/300\n",
      "60000/60000 [==============================] - 69s 1ms/step - loss: 0.1131 - acc: 0.9626\n",
      "Epoch 221/300\n",
      "60000/60000 [==============================] - 68s 1ms/step - loss: 0.1106 - acc: 0.9639\n",
      "Epoch 222/300\n",
      "60000/60000 [==============================] - 68s 1ms/step - loss: 0.1115 - acc: 0.9637\n",
      "Epoch 223/300\n",
      "60000/60000 [==============================] - 68s 1ms/step - loss: 0.1132 - acc: 0.9627\n",
      "Epoch 224/300\n",
      "60000/60000 [==============================] - 67s 1ms/step - loss: 0.1124 - acc: 0.9626\n",
      "Epoch 225/300\n",
      "60000/60000 [==============================] - 65s 1ms/step - loss: 0.1145 - acc: 0.9624\n",
      "Epoch 226/300\n",
      "60000/60000 [==============================] - 65s 1ms/step - loss: 0.1108 - acc: 0.9635\n",
      "Epoch 227/300\n",
      "60000/60000 [==============================] - 64s 1ms/step - loss: 0.1137 - acc: 0.9634\n",
      "Epoch 228/300\n",
      "60000/60000 [==============================] - 64s 1ms/step - loss: 0.1126 - acc: 0.9638\n",
      "Epoch 229/300\n",
      "60000/60000 [==============================] - 64s 1ms/step - loss: 0.1079 - acc: 0.9636\n",
      "Epoch 230/300\n",
      "60000/60000 [==============================] - 64s 1ms/step - loss: 0.1129 - acc: 0.9623\n",
      "Epoch 231/300\n",
      "60000/60000 [==============================] - 64s 1ms/step - loss: 0.1143 - acc: 0.9620\n",
      "Epoch 232/300\n",
      "60000/60000 [==============================] - 64s 1ms/step - loss: 0.1100 - acc: 0.9643\n",
      "Epoch 233/300\n",
      "60000/60000 [==============================] - 65s 1ms/step - loss: 0.1132 - acc: 0.9621\n",
      "Epoch 234/300\n",
      "60000/60000 [==============================] - 64s 1ms/step - loss: 0.1142 - acc: 0.9629\n",
      "Epoch 235/300\n",
      "60000/60000 [==============================] - 65s 1ms/step - loss: 0.1146 - acc: 0.9625\n",
      "Epoch 236/300\n",
      "60000/60000 [==============================] - 65s 1ms/step - loss: 0.1127 - acc: 0.9628\n",
      "Epoch 237/300\n",
      "60000/60000 [==============================] - 65s 1ms/step - loss: 0.1128 - acc: 0.9635\n",
      "Epoch 238/300\n",
      "60000/60000 [==============================] - 64s 1ms/step - loss: 0.1137 - acc: 0.9629\n",
      "Epoch 239/300\n"
     ]
    },
    {
     "name": "stdout",
     "output_type": "stream",
     "text": [
      "60000/60000 [==============================] - 64s 1ms/step - loss: 0.1099 - acc: 0.9646\n",
      "Epoch 240/300\n",
      "60000/60000 [==============================] - 64s 1ms/step - loss: 0.1093 - acc: 0.9641\n",
      "Epoch 241/300\n",
      "60000/60000 [==============================] - 64s 1ms/step - loss: 0.1085 - acc: 0.9653\n",
      "Epoch 242/300\n",
      "60000/60000 [==============================] - 64s 1ms/step - loss: 0.1095 - acc: 0.9641\n",
      "Epoch 243/300\n",
      "60000/60000 [==============================] - 64s 1ms/step - loss: 0.1133 - acc: 0.9625\n",
      "Epoch 244/300\n",
      "60000/60000 [==============================] - 65s 1ms/step - loss: 0.1116 - acc: 0.9634\n",
      "Epoch 245/300\n",
      "60000/60000 [==============================] - 64s 1ms/step - loss: 0.1129 - acc: 0.9638\n",
      "Epoch 246/300\n",
      "60000/60000 [==============================] - 64s 1ms/step - loss: 0.1098 - acc: 0.9634\n",
      "Epoch 247/300\n",
      "60000/60000 [==============================] - 64s 1ms/step - loss: 0.1107 - acc: 0.9643\n",
      "Epoch 248/300\n",
      "60000/60000 [==============================] - 64s 1ms/step - loss: 0.1111 - acc: 0.9634\n",
      "Epoch 249/300\n",
      "60000/60000 [==============================] - 64s 1ms/step - loss: 0.1140 - acc: 0.9627\n",
      "Epoch 250/300\n",
      "60000/60000 [==============================] - 65s 1ms/step - loss: 0.1123 - acc: 0.9630\n",
      "Epoch 251/300\n",
      "60000/60000 [==============================] - 65s 1ms/step - loss: 0.1122 - acc: 0.9636\n",
      "Epoch 252/300\n",
      "60000/60000 [==============================] - 65s 1ms/step - loss: 0.1093 - acc: 0.9634\n",
      "Epoch 253/300\n",
      "60000/60000 [==============================] - 65s 1ms/step - loss: 0.1071 - acc: 0.9652\n",
      "Epoch 254/300\n",
      "60000/60000 [==============================] - 65s 1ms/step - loss: 0.1093 - acc: 0.9644\n",
      "Epoch 255/300\n",
      "60000/60000 [==============================] - 65s 1ms/step - loss: 0.1077 - acc: 0.9648\n",
      "Epoch 256/300\n",
      "60000/60000 [==============================] - 65s 1ms/step - loss: 0.1106 - acc: 0.9640\n",
      "Epoch 257/300\n",
      "60000/60000 [==============================] - 65s 1ms/step - loss: 0.1046 - acc: 0.9656\n",
      "Epoch 258/300\n",
      "60000/60000 [==============================] - 65s 1ms/step - loss: 0.1111 - acc: 0.9638\n",
      "Epoch 259/300\n",
      "60000/60000 [==============================] - 65s 1ms/step - loss: 0.1087 - acc: 0.9643\n",
      "Epoch 260/300\n",
      "60000/60000 [==============================] - 66s 1ms/step - loss: 0.1113 - acc: 0.9629\n",
      "Epoch 261/300\n",
      "60000/60000 [==============================] - 65s 1ms/step - loss: 0.1107 - acc: 0.9632\n",
      "Epoch 262/300\n",
      "60000/60000 [==============================] - 67s 1ms/step - loss: 0.1053 - acc: 0.9658\n",
      "Epoch 263/300\n",
      "60000/60000 [==============================] - 67s 1ms/step - loss: 0.1070 - acc: 0.9649\n",
      "Epoch 264/300\n",
      "60000/60000 [==============================] - 67s 1ms/step - loss: 0.1047 - acc: 0.9660\n",
      "Epoch 265/300\n",
      "60000/60000 [==============================] - 70s 1ms/step - loss: 0.1138 - acc: 0.9631\n",
      "Epoch 266/300\n",
      "60000/60000 [==============================] - 70s 1ms/step - loss: 0.1080 - acc: 0.9641\n",
      "Epoch 267/300\n",
      "60000/60000 [==============================] - 70s 1ms/step - loss: 0.1087 - acc: 0.9644\n",
      "Epoch 268/300\n",
      "60000/60000 [==============================] - 70s 1ms/step - loss: 0.1034 - acc: 0.9658\n",
      "Epoch 269/300\n",
      "60000/60000 [==============================] - 73s 1ms/step - loss: 0.1073 - acc: 0.9652\n",
      "Epoch 270/300\n",
      "60000/60000 [==============================] - 73s 1ms/step - loss: 0.1094 - acc: 0.9652\n",
      "Epoch 271/300\n",
      "60000/60000 [==============================] - 72s 1ms/step - loss: 0.1107 - acc: 0.9637\n",
      "Epoch 272/300\n",
      "60000/60000 [==============================] - 72s 1ms/step - loss: 0.1093 - acc: 0.9641\n",
      "Epoch 273/300\n",
      "60000/60000 [==============================] - 72s 1ms/step - loss: 0.1066 - acc: 0.9652\n",
      "Epoch 274/300\n",
      "60000/60000 [==============================] - 72s 1ms/step - loss: 0.1082 - acc: 0.9641\n",
      "Epoch 275/300\n",
      "60000/60000 [==============================] - 71s 1ms/step - loss: 0.1088 - acc: 0.9649\n",
      "Epoch 276/300\n",
      "60000/60000 [==============================] - 71s 1ms/step - loss: 0.1092 - acc: 0.9649\n",
      "Epoch 277/300\n",
      "60000/60000 [==============================] - 69s 1ms/step - loss: 0.1044 - acc: 0.9658\n",
      "Epoch 278/300\n",
      "60000/60000 [==============================] - 68s 1ms/step - loss: 0.1105 - acc: 0.9647\n",
      "Epoch 279/300\n",
      "60000/60000 [==============================] - 68s 1ms/step - loss: 0.1050 - acc: 0.9656\n",
      "Epoch 280/300\n",
      "60000/60000 [==============================] - 69s 1ms/step - loss: 0.1066 - acc: 0.9649\n",
      "Epoch 281/300\n",
      "60000/60000 [==============================] - 69s 1ms/step - loss: 0.1032 - acc: 0.9669\n",
      "Epoch 282/300\n",
      "60000/60000 [==============================] - 67s 1ms/step - loss: 0.1101 - acc: 0.9648\n",
      "Epoch 283/300\n",
      "60000/60000 [==============================] - 65s 1ms/step - loss: 0.1101 - acc: 0.9642\n",
      "Epoch 284/300\n",
      "60000/60000 [==============================] - 65s 1ms/step - loss: 0.1094 - acc: 0.9647\n",
      "Epoch 285/300\n",
      "60000/60000 [==============================] - 65s 1ms/step - loss: 0.1071 - acc: 0.9652\n",
      "Epoch 286/300\n",
      "60000/60000 [==============================] - 66s 1ms/step - loss: 0.1052 - acc: 0.9655\n",
      "Epoch 287/300\n",
      "60000/60000 [==============================] - 65s 1ms/step - loss: 0.1083 - acc: 0.9655\n",
      "Epoch 288/300\n",
      "60000/60000 [==============================] - 65s 1ms/step - loss: 0.1093 - acc: 0.9646\n",
      "Epoch 289/300\n",
      "60000/60000 [==============================] - 65s 1ms/step - loss: 0.1059 - acc: 0.9653\n",
      "Epoch 290/300\n",
      "60000/60000 [==============================] - 65s 1ms/step - loss: 0.1087 - acc: 0.9639\n",
      "Epoch 291/300\n",
      "60000/60000 [==============================] - 65s 1ms/step - loss: 0.1046 - acc: 0.9655\n",
      "Epoch 292/300\n",
      "60000/60000 [==============================] - 64s 1ms/step - loss: 0.1047 - acc: 0.9662\n",
      "Epoch 293/300\n",
      "60000/60000 [==============================] - 64s 1ms/step - loss: 0.1074 - acc: 0.9641\n",
      "Epoch 294/300\n",
      "60000/60000 [==============================] - 64s 1ms/step - loss: 0.1093 - acc: 0.9642\n",
      "Epoch 295/300\n",
      "60000/60000 [==============================] - 64s 1ms/step - loss: 0.1041 - acc: 0.9663\n",
      "Epoch 296/300\n",
      "60000/60000 [==============================] - 64s 1ms/step - loss: 0.1075 - acc: 0.9648\n",
      "Epoch 297/300\n",
      "60000/60000 [==============================] - 64s 1ms/step - loss: 0.1068 - acc: 0.9654\n",
      "Epoch 298/300\n",
      "60000/60000 [==============================] - 64s 1ms/step - loss: 0.1044 - acc: 0.9666\n",
      "Epoch 299/300\n",
      "60000/60000 [==============================] - 64s 1ms/step - loss: 0.1047 - acc: 0.9658\n",
      "Epoch 300/300\n",
      "60000/60000 [==============================] - 64s 1ms/step - loss: 0.1071 - acc: 0.9652\n"
     ]
    }
   ],
   "source": [
    "history = model.fit(X_train, y_train, batch_size=100, epochs=300, verbose=1)\n",
    "# history = model.fit(X_train, y_train, validation_split=0.25, batch_size=32, epochs=15, verbose=1)\n",
    "\n",
    "# batch_size: Integer or None. Number of samples per gradient update. \n",
    "# epochs: Number of iteration over the entire x and y data provided. \n",
    "# verbose: 0, 1, or 2. how want to see the training progress. 0 = silent, 1 = progress bar, 2 = one line per epoch.\n",
    "# validation_split: Float between 0 and 1. Fraction of the training data to be used as validation data. \n",
    "# You can add some callbacks to get a view on internal states and statistics of the model during training:\n",
    "# https://keras.io/callbacks/     "
   ]
  },
  {
   "cell_type": "code",
   "execution_count": 19,
   "metadata": {
    "collapsed": true
   },
   "outputs": [],
   "source": [
    "# Training with Validation:\n",
    "# from keras.callbacks import EarlyStopping\n",
    "# early_stopping = EarlyStopping(monitor='val_loss', patience=2)\n",
    "# fitted_model = model.fit(X_train, y_train, validation_split=0.25, batch_size=32, epochs=15, verbose=1)"
   ]
  },
  {
   "cell_type": "code",
   "execution_count": 310,
   "metadata": {},
   "outputs": [
    {
     "data": {
      "text/plain": [
       "<matplotlib.legend.Legend at 0x39b71c88>"
      ]
     },
     "execution_count": 310,
     "metadata": {},
     "output_type": "execute_result"
    },
    {
     "data": {
      "image/png": "[encoded data removed]",
      "text/plain": [
       "<matplotlib.figure.Figure at 0x1ad2c668>"
      ]
     },
     "metadata": {},
     "output_type": "display_data"
    },
    {
     "data": {
      "image/png": "[encoded data removed]",
      "text/plain": [
       "<matplotlib.figure.Figure at 0x1a3c1908>"
      ]
     },
     "metadata": {},
     "output_type": "display_data"
    }
   ],
   "source": [
    "import matplotlib.pyplot as plt\n",
    "\n",
    "%matplotlib inline\n",
    "\n",
    "accuracy = history.history['acc']\n",
    "#val_accuracy = history.history['val_acc']\n",
    "loss = history.history['loss']\n",
    "#val_loss = history.history['val_loss']\n",
    "epochs = range(len(accuracy))\n",
    "plt.plot(epochs, accuracy, 'bo', label='Training accuracy')\n",
    "#plt.plot(epochs, val_accuracy, 'b', label='Validation accuracy')\n",
    "plt.title('Training and validation accuracy')\n",
    "plt.legend()\n",
    "plt.figure()\n",
    "plt.plot(epochs, loss, 'bo', label='Training loss')\n",
    "#plt.plot(epochs, val_loss, 'b', label='Validation loss')\n",
    "plt.title('Training and validation loss')\n",
    "plt.legend()\n",
    "# plt.show()"
   ]
  },
  {
   "cell_type": "markdown",
   "metadata": {},
   "source": [
    "## Testing:"
   ]
  },
  {
   "cell_type": "code",
   "execution_count": 311,
   "metadata": {},
   "outputs": [],
   "source": [
    "predicted_classes = model.predict_classes(X_test)"
   ]
  },
  {
   "cell_type": "code",
   "execution_count": 312,
   "metadata": {},
   "outputs": [
    {
     "name": "stdout",
     "output_type": "stream",
     "text": [
      "10000/10000 [==============================] - 4s 407us/step\n",
      "The accuracy is:  0.921\n"
     ]
    }
   ],
   "source": [
    "# Testing:\n",
    "score = model.evaluate(X_test, y_test, verbose=1)\n",
    "print('The accuracy is: ', score[1])"
   ]
  },
  {
   "cell_type": "code",
   "execution_count": null,
   "metadata": {
    "collapsed": true
   },
   "outputs": [],
   "source": []
  }
 ],
 "metadata": {
  "kernelspec": {
   "display_name": "Python 3",
   "language": "python",
   "name": "python3"
  },
  "language_info": {
   "codemirror_mode": {
    "name": "ipython",
    "version": 3
   },
   "file_extension": ".py",
   "mimetype": "text/x-python",
   "name": "python",
   "nbconvert_exporter": "python",
   "pygments_lexer": "ipython3",
   "version": "3.6.4"
  }
 },
 "nbformat": 4,
 "nbformat_minor": 2
}
