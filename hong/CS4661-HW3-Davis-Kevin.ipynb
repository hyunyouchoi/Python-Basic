{
 "cells": [
  {
   "cell_type": "markdown",
   "metadata": {},
   "source": [
    "# CS 4661: Introduction to Data Science Homework 3 Due Date: Fri, Nov 4"
   ]
  },
  {
   "cell_type": "markdown",
   "metadata": {},
   "source": [
    " Group Members:\n",
    "1. Davis Louie 300101273\n",
    "2. Kevin Huynh 302371646"
   ]
  },
  {
   "cell_type": "markdown",
   "metadata": {},
   "source": [
    "## Question 1:"
   ]
  },
  {
   "cell_type": "markdown",
   "metadata": {},
   "source": [
    "### a- Read the dataset file \"Credit.csv\" and assign it to a Pandas DataFrame"
   ]
  },
  {
   "cell_type": "code",
   "execution_count": 2,
   "metadata": {
    "collapsed": true
   },
   "outputs": [],
   "source": [
    "# importing numpy and pandas\n",
    "\n",
    "import numpy as np\n",
    "import pandas as pd"
   ]
  },
  {
   "cell_type": "code",
   "execution_count": 3,
   "metadata": {
    "collapsed": false,
    "scrolled": true
   },
   "outputs": [
    {
     "data": {
      "text/html": [
       "<div>\n",
       "<table border=\"1\" class=\"dataframe\">\n",
       "  <thead>\n",
       "    <tr style=\"text-align: right;\">\n",
       "      <th></th>\n",
       "      <th>Income</th>\n",
       "      <th>Limit</th>\n",
       "      <th>Rating</th>\n",
       "      <th>Cards</th>\n",
       "      <th>Age</th>\n",
       "      <th>Education</th>\n",
       "      <th>Married</th>\n",
       "      <th>Balance</th>\n",
       "    </tr>\n",
       "  </thead>\n",
       "  <tbody>\n",
       "    <tr>\n",
       "      <th>0</th>\n",
       "      <td>14.891</td>\n",
       "      <td>3606</td>\n",
       "      <td>283</td>\n",
       "      <td>2</td>\n",
       "      <td>34</td>\n",
       "      <td>11</td>\n",
       "      <td>1</td>\n",
       "      <td>333</td>\n",
       "    </tr>\n",
       "    <tr>\n",
       "      <th>1</th>\n",
       "      <td>106.025</td>\n",
       "      <td>6645</td>\n",
       "      <td>483</td>\n",
       "      <td>3</td>\n",
       "      <td>82</td>\n",
       "      <td>15</td>\n",
       "      <td>1</td>\n",
       "      <td>903</td>\n",
       "    </tr>\n",
       "    <tr>\n",
       "      <th>2</th>\n",
       "      <td>104.593</td>\n",
       "      <td>7075</td>\n",
       "      <td>514</td>\n",
       "      <td>4</td>\n",
       "      <td>71</td>\n",
       "      <td>11</td>\n",
       "      <td>0</td>\n",
       "      <td>580</td>\n",
       "    </tr>\n",
       "    <tr>\n",
       "      <th>3</th>\n",
       "      <td>148.924</td>\n",
       "      <td>9504</td>\n",
       "      <td>681</td>\n",
       "      <td>3</td>\n",
       "      <td>36</td>\n",
       "      <td>11</td>\n",
       "      <td>0</td>\n",
       "      <td>964</td>\n",
       "    </tr>\n",
       "    <tr>\n",
       "      <th>4</th>\n",
       "      <td>55.882</td>\n",
       "      <td>4897</td>\n",
       "      <td>357</td>\n",
       "      <td>2</td>\n",
       "      <td>68</td>\n",
       "      <td>16</td>\n",
       "      <td>1</td>\n",
       "      <td>331</td>\n",
       "    </tr>\n",
       "  </tbody>\n",
       "</table>\n",
       "</div>"
      ],
      "text/plain": [
       "    Income  Limit  Rating  Cards  Age  Education  Married  Balance\n",
       "0   14.891   3606     283      2   34         11        1      333\n",
       "1  106.025   6645     483      3   82         15        1      903\n",
       "2  104.593   7075     514      4   71         11        0      580\n",
       "3  148.924   9504     681      3   36         11        0      964\n",
       "4   55.882   4897     357      2   68         16        1      331"
      ]
     },
     "execution_count": 3,
     "metadata": {},
     "output_type": "execute_result"
    }
   ],
   "source": [
    "# reading the Credits.csv file and assigning it to a pandas dataframe\n",
    "\n",
    "credit_df = pd.read_csv('C:/Users/TallGuy/Downloads/CS4661/HW3/Credit.csv')\n",
    "credit_df.head() # printing the head of the dataframe"
   ]
  },
  {
   "cell_type": "markdown",
   "metadata": {},
   "source": [
    "### c- Generate the feature matrix and target vector (target is “balance” in this dataset). Then, normalize (scale) the features."
   ]
  },
  {
   "cell_type": "code",
   "execution_count": 4,
   "metadata": {
    "collapsed": false
   },
   "outputs": [
    {
     "data": {
      "text/html": [
       "<div>\n",
       "<table border=\"1\" class=\"dataframe\">\n",
       "  <thead>\n",
       "    <tr style=\"text-align: right;\">\n",
       "      <th></th>\n",
       "      <th>Income</th>\n",
       "      <th>Limit</th>\n",
       "      <th>Rating</th>\n",
       "      <th>Cards</th>\n",
       "      <th>Age</th>\n",
       "      <th>Education</th>\n",
       "      <th>Married</th>\n",
       "    </tr>\n",
       "  </thead>\n",
       "  <tbody>\n",
       "    <tr>\n",
       "      <th>0</th>\n",
       "      <td>14.891</td>\n",
       "      <td>3606</td>\n",
       "      <td>283</td>\n",
       "      <td>2</td>\n",
       "      <td>34</td>\n",
       "      <td>11</td>\n",
       "      <td>1</td>\n",
       "    </tr>\n",
       "    <tr>\n",
       "      <th>1</th>\n",
       "      <td>106.025</td>\n",
       "      <td>6645</td>\n",
       "      <td>483</td>\n",
       "      <td>3</td>\n",
       "      <td>82</td>\n",
       "      <td>15</td>\n",
       "      <td>1</td>\n",
       "    </tr>\n",
       "    <tr>\n",
       "      <th>2</th>\n",
       "      <td>104.593</td>\n",
       "      <td>7075</td>\n",
       "      <td>514</td>\n",
       "      <td>4</td>\n",
       "      <td>71</td>\n",
       "      <td>11</td>\n",
       "      <td>0</td>\n",
       "    </tr>\n",
       "    <tr>\n",
       "      <th>3</th>\n",
       "      <td>148.924</td>\n",
       "      <td>9504</td>\n",
       "      <td>681</td>\n",
       "      <td>3</td>\n",
       "      <td>36</td>\n",
       "      <td>11</td>\n",
       "      <td>0</td>\n",
       "    </tr>\n",
       "    <tr>\n",
       "      <th>4</th>\n",
       "      <td>55.882</td>\n",
       "      <td>4897</td>\n",
       "      <td>357</td>\n",
       "      <td>2</td>\n",
       "      <td>68</td>\n",
       "      <td>16</td>\n",
       "      <td>1</td>\n",
       "    </tr>\n",
       "  </tbody>\n",
       "</table>\n",
       "</div>"
      ],
      "text/plain": [
       "    Income  Limit  Rating  Cards  Age  Education  Married\n",
       "0   14.891   3606     283      2   34         11        1\n",
       "1  106.025   6645     483      3   82         15        1\n",
       "2  104.593   7075     514      4   71         11        0\n",
       "3  148.924   9504     681      3   36         11        0\n",
       "4   55.882   4897     357      2   68         16        1"
      ]
     },
     "execution_count": 4,
     "metadata": {},
     "output_type": "execute_result"
    }
   ],
   "source": [
    "# generating the feature matrix\n",
    "\n",
    "feature_cols = ['Income', 'Limit', 'Rating', 'Cards', 'Age', 'Education', 'Married']\n",
    "X = credit_df[feature_cols]\n",
    "X.head() # printing the head of the feature matrix"
   ]
  },
  {
   "cell_type": "code",
   "execution_count": 5,
   "metadata": {
    "collapsed": false
   },
   "outputs": [
    {
     "data": {
      "text/plain": [
       "0    333\n",
       "1    903\n",
       "2    580\n",
       "3    964\n",
       "4    331\n",
       "Name: Balance, dtype: int64"
      ]
     },
     "execution_count": 5,
     "metadata": {},
     "output_type": "execute_result"
    }
   ],
   "source": [
    "# generating the target vector\n",
    "\n",
    "Y = credit_df['Balance']\n",
    "Y.head() # printing the head of the target vector"
   ]
  },
  {
   "cell_type": "code",
   "execution_count": 6,
   "metadata": {
    "collapsed": false,
    "scrolled": true
   },
   "outputs": [
    {
     "name": "stdout",
     "output_type": "stream",
     "text": [
      "[[-0.86158299 -0.48999879 -0.46553881 ..., -1.2576741  -0.78492991\n",
      "   0.79539491]\n",
      " [ 1.72743711  0.82826106  0.82870309 ...,  1.5284506   0.49658831\n",
      "   0.79539491]\n",
      " [ 1.68675551  1.01478681  1.02931059 ...,  0.88996369 -0.78492991\n",
      "  -1.25723711]\n",
      " ..., \n",
      " [ 0.35946155 -0.24491264 -0.21963285 ...,  0.65778663 -0.46455035\n",
      "   0.79539491]\n",
      " [-0.21280808 -0.95891584 -1.05441888 ..., -0.67723146 -0.1441708\n",
      "   0.79539491]\n",
      " [-0.75334493  0.34199278  0.38866085 ...,  0.48365384 -2.06644812\n",
      "  -1.25723711]]\n"
     ]
    }
   ],
   "source": [
    "# normalizing the feature matrix\n",
    "\n",
    "from sklearn import preprocessing\n",
    "\n",
    "X_normal = preprocessing.scale(X)\n",
    "print(X_normal) # displaying the normalized features"
   ]
  },
  {
   "cell_type": "markdown",
   "metadata": {},
   "source": [
    "### d- Split the dataset into testing and training sets with the following parameters: test_size=0.2, random_state=2."
   ]
  },
  {
   "cell_type": "code",
   "execution_count": 7,
   "metadata": {
    "collapsed": true
   },
   "outputs": [],
   "source": [
    "# splitting the data so that 80% is in the training set and 20% is in the testing set.\n",
    "\n",
    "from sklearn.cross_validation import train_test_split\n",
    "\n",
    "X_train, X_test, Y_train, Y_test = train_test_split(X_normal, Y, test_size=0.2, random_state=2)\n"
   ]
  },
  {
   "cell_type": "markdown",
   "metadata": {},
   "source": [
    "### e- Use Linear Regression to train a linear model on the training set. Check the coefficients of the linear regression model. Which feature is the most important? Which feature is the least important?"
   ]
  },
  {
   "cell_type": "code",
   "execution_count": 8,
   "metadata": {
    "collapsed": false
   },
   "outputs": [
    {
     "name": "stdout",
     "output_type": "stream",
     "text": [
      "[-266.58857043  224.9727995   384.17073326   15.75381497  -17.93570224\n",
      "    6.29572687  -23.60638685]\n"
     ]
    }
   ],
   "source": [
    "# using linear regression to train the training set\n",
    "\n",
    "from sklearn.linear_model import LinearRegression\n",
    "\n",
    "my_linreg = LinearRegression() # instantiate an object of linear regression\n",
    "my_linreg.fit(X_train, Y_train) # fitting the model to the training data\n",
    "print(my_linreg.coef_) # printing the coefficients ('Income', 'Limit', 'Rating', 'Cards', 'Age', 'Education', 'Married')"
   ]
  },
  {
   "cell_type": "markdown",
   "metadata": {},
   "source": [
    "The feature that is most important is Rating since the magnitude is the greatest.\n",
    "The feature that is least important is is Education since the magnitude is the closest to zero."
   ]
  },
  {
   "cell_type": "markdown",
   "metadata": {},
   "source": [
    "### f- Predict “balance” for the users in testing set. Then, compare the predicted balance with the actual balance by calculating and reporting the RMSE."
   ]
  },
  {
   "cell_type": "code",
   "execution_count": 9,
   "metadata": {
    "collapsed": false,
    "scrolled": true
   },
   "outputs": [
    {
     "name": "stdout",
     "output_type": "stream",
     "text": [
      "[  187.83259081   696.19359653  1008.45870602   602.54553619  1005.89421809\n",
      "   689.53276161   912.63981066   265.93761365   921.40430581  1097.28246448\n",
      "   561.24806805   347.10203229   793.92182702   133.99552456   831.68509878\n",
      "   154.29201659  1391.55139882  -127.61911507   946.8333401    719.02865483\n",
      "   593.49954528    82.58696538    75.58160302   -69.92762404   480.22371194\n",
      "  -153.93316298   290.58134942   588.66521868   908.95132202   887.83016569\n",
      "  -215.31132242   421.56659575    31.96584993  -265.81389094   925.49231108\n",
      "  1229.55288913   382.92814713   934.30680369  1763.56079475   845.73667161\n",
      "   810.02069387   502.35960813   380.43477228   448.20831629   673.02981403\n",
      "   492.00309225   589.86815721  1092.19775167   521.63311942   689.99089979\n",
      "   799.4973836    265.38602315  1542.56678822  1188.82234981   303.81822799\n",
      "   848.83393296  -152.65676468   634.77873681   266.10574461   828.42364016\n",
      "   400.56060336   571.89835366   -15.19680339   982.77736906  -194.71974119\n",
      "   751.71775232   486.69746454   333.10675258  1063.15591078   972.70541837\n",
      "   -80.21890573   597.37341198   708.83693482   397.51259999   623.49553554\n",
      "   997.69797824   614.01791858   655.87801862   519.98827377   407.09335709]\n"
     ]
    }
   ],
   "source": [
    "# making predictions on the testing set\n",
    "\n",
    "y_predict_lin = my_linreg.predict(X_test)\n",
    "print(y_predict_lin) # printing the predictions"
   ]
  },
  {
   "cell_type": "code",
   "execution_count": 10,
   "metadata": {
    "collapsed": false
   },
   "outputs": [
    {
     "name": "stdout",
     "output_type": "stream",
     "text": [
      "Root Mean Square Error: 154.410746767\n"
     ]
    }
   ],
   "source": [
    "# Calculating the mean square error and the root mean square error\n",
    "\n",
    "from sklearn import metrics\n",
    "\n",
    "mse = metrics.mean_squared_error(Y_test, y_predict_lin)\n",
    "\n",
    "rmse = np.sqrt(mse)\n",
    "\n",
    "print('Root Mean Square Error: ' + str(rmse))"
   ]
  },
  {
   "cell_type": "markdown",
   "metadata": {},
   "source": [
    "### g- Now, use 10-fold Cross-Validation to evaluate the performance of a linear regression in predicting the balance. Thus, rather than splitting the dataset into testing and training, use Cross-Validation to evaluate the regression performance. What is the RMSE when you use cross validation?"
   ]
  },
  {
   "cell_type": "code",
   "execution_count": 11,
   "metadata": {
    "collapsed": false
   },
   "outputs": [
    {
     "name": "stdout",
     "output_type": "stream",
     "text": [
      "[-23646.90415343 -32003.04401232 -35462.64435619 -37327.60719635\n",
      " -14341.32205939 -33628.37104224 -31631.99317834 -12491.00334951\n",
      " -20749.61212175 -23204.94743459]\n"
     ]
    }
   ],
   "source": [
    "# applying 10-fold cross-validation for linear regression classifer\n",
    "\n",
    "from sklearn.cross_validation import cross_val_score\n",
    "\n",
    "my_linreg.fit(X_normal, Y)\n",
    "mse_list_cv = cross_val_score(my_linreg, X_normal, Y, cv=10, scoring='mean_squared_error')\n",
    "print(mse_list_cv)"
   ]
  },
  {
   "cell_type": "code",
   "execution_count": 12,
   "metadata": {
    "collapsed": false
   },
   "outputs": [
    {
     "name": "stdout",
     "output_type": "stream",
     "text": [
      "[ 153.7754992   178.89394627  188.31527914  193.20353826  119.75525901\n",
      "  183.38039983  177.85385343  111.76315739  144.04725656  152.331702  ]\n"
     ]
    }
   ],
   "source": [
    "# changing the mean square values to positive and calculating the root mean square error.\n",
    "\n",
    "mse_list_cv_pos = -mse_list_cv\n",
    "\n",
    "rmse_list_cv = np.sqrt(mse_list_cv_pos)\n",
    "print(rmse_list_cv)"
   ]
  },
  {
   "cell_type": "code",
   "execution_count": 13,
   "metadata": {
    "collapsed": false
   },
   "outputs": [
    {
     "name": "stdout",
     "output_type": "stream",
     "text": [
      "Average RMSE: 160.331989107\n"
     ]
    }
   ],
   "source": [
    "# calculating the average RMSE\n",
    "\n",
    "print('Average RMSE: ' + str(rmse_list_cv.mean()))"
   ]
  },
  {
   "cell_type": "markdown",
   "metadata": {},
   "source": [
    "## Question 2:"
   ]
  },
  {
   "cell_type": "code",
   "execution_count": 14,
   "metadata": {
    "collapsed": true
   },
   "outputs": [],
   "source": [
    "# function to predict starting salary after graduation for technical and non-technical positions\n",
    "# X1 is GPA, X2 is Age, and X3 is Type of Position(1 for Technical, 0 for Non-Technical)\n",
    "\n",
    "def Target(X1, X2, X3):\n",
    "    return 30 + 20 * X1 + 0.07 * X2 -30 * X3 + 0.01 * X1 * X2 + 10 * X1 * X3"
   ]
  },
  {
   "cell_type": "code",
   "execution_count": 17,
   "metadata": {
    "collapsed": false
   },
   "outputs": [
    {
     "name": "stdout",
     "output_type": "stream",
     "text": [
      "With a GPA of 3.5 and Age of 22: \n",
      "The starting salary of a Non-Technical Position: 102.31\n",
      "The starting salary of a Technical Position: 107.31\n",
      "With a GPA of 4.0 and Age of 22: \n",
      "The starting salary of a Non-Technical Position: 112.42\n",
      "The starting salary of a Technical Position: 122.42\n",
      "With a GPA of 4.0 and Age of 22: \n",
      "The starting salary of a Non-Technical Position: 82.09\n",
      "The starting salary of a Technical Position: 77.09\n"
     ]
    }
   ],
   "source": [
    "# calculations for (PART A) showing cases with different gpa, but same age\n",
    "# fixed gpa of 3.5 and age 22\n",
    "print('With a GPA of 3.5 and Age of 22: ')\n",
    "print('The starting salary of a Non-Technical Position: ' + str(Target(3.5, 22, 0)))\n",
    "print('The starting salary of a Technical Position: ' + str(Target(3.5, 22, 1)))\n",
    "\n",
    "# fixed gpa of 4.0 and age 22\n",
    "print('With a GPA of 4.0 and Age of 22: ')\n",
    "print('The starting salary of a Non-Technical Position: ' + str(Target(4.0, 22, 0)))\n",
    "print('The starting salary of a Technical Position: ' + str(Target(4.0, 22, 1)))\n",
    "\n",
    "# fixed gpa of 2.5 and age 22\n",
    "print('With a GPA of 4.0 and Age of 22: ')\n",
    "print('The starting salary of a Non-Technical Position: ' + str(Target(2.5, 22, 0)))\n",
    "print('The starting salary of a Technical Position: ' + str(Target(2.5, 22, 1)))"
   ]
  },
  {
   "cell_type": "markdown",
   "metadata": {},
   "source": [
    "### a. (iii) For a fixed value of Age and GPA, Technical positions earn more on average than Non-Technical positions when the GPA is high enough.\n",
    "iii is correct because with a fixed age and GPA, Technical positions will earn more on average when GPA is high enough.\n",
    "\n",
    "The reason why Technical positions earn more on average is because of theta3 * X3 and theta5 * X1 * X3 where theta3 is -30 and theta5 is 10. Since theta3 is -30, when X3 is 1 (when you have a technical position) you lose 30 salary, but that does not apply when X3 is 0 (when you have a non-technical position). That doesn't seem fair to technical positions, but when you look at theta5 * X1 * X3, you see that theta5 is positive and the multiplier is GPA. Also, this portion of the model only applies to technical positions since X3 can only be 0 or 1. So that means you gain 10 times your GPA in salary. The higher your GPA is, the more money you will earn in a technical position.\n",
    "\n",
    "Since you lose 30 in salary for automatically being in a technical field, we should find the break even point. The break even point is when your GPA is 3.0 since 10 times 3.0 is 30 and you lose 30 salary so you gain 0 salary for being in a technical field. That means if you have a GPA of 3.0, you will earn the same amount whether you are in a technical position or non-technical position."
   ]
  },
  {
   "cell_type": "markdown",
   "metadata": {},
   "source": [
    "### b. Predict the salary of a Technical and a Non-Technical positions with Age of 27, GPA of 4.0."
   ]
  },
  {
   "cell_type": "code",
   "execution_count": 16,
   "metadata": {
    "collapsed": false
   },
   "outputs": [
    {
     "name": "stdout",
     "output_type": "stream",
     "text": [
      "With a GPA of 4.0 and Age of 27: \n",
      "The starting salary of a Non-Technical Position: 112.97\n",
      "The starting salary of a Technical Position: 122.97\n"
     ]
    }
   ],
   "source": [
    "print('With a GPA of 4.0 and Age of 27: ')\n",
    "print('The starting salary of a Non-Technical Position: ' + str(Target(4.0, 27, 0)))\n",
    "print('The starting salary of a Technical Position: ' + str(Target(4.0, 27, 1)))"
   ]
  },
  {
   "cell_type": "markdown",
   "metadata": {},
   "source": [
    "## Question 3:"
   ]
  },
  {
   "cell_type": "markdown",
   "metadata": {},
   "source": [
    "### a- Read the dataset file “Hearts_short.csv”, and assign it to a Pandas DataFrame."
   ]
  },
  {
   "cell_type": "code",
   "execution_count": 38,
   "metadata": {
    "collapsed": false
   },
   "outputs": [
    {
     "data": {
      "text/html": [
       "<div>\n",
       "<table border=\"1\" class=\"dataframe\">\n",
       "  <thead>\n",
       "    <tr style=\"text-align: right;\">\n",
       "      <th></th>\n",
       "      <th>Age</th>\n",
       "      <th>RestBP</th>\n",
       "      <th>Chol</th>\n",
       "      <th>RestECG</th>\n",
       "      <th>MaxHR</th>\n",
       "      <th>Oldpeak</th>\n",
       "      <th>AHD</th>\n",
       "    </tr>\n",
       "  </thead>\n",
       "  <tbody>\n",
       "    <tr>\n",
       "      <th>0</th>\n",
       "      <td>63</td>\n",
       "      <td>145</td>\n",
       "      <td>233</td>\n",
       "      <td>2</td>\n",
       "      <td>150</td>\n",
       "      <td>2.3</td>\n",
       "      <td>No</td>\n",
       "    </tr>\n",
       "    <tr>\n",
       "      <th>1</th>\n",
       "      <td>67</td>\n",
       "      <td>160</td>\n",
       "      <td>286</td>\n",
       "      <td>2</td>\n",
       "      <td>108</td>\n",
       "      <td>1.5</td>\n",
       "      <td>Yes</td>\n",
       "    </tr>\n",
       "    <tr>\n",
       "      <th>2</th>\n",
       "      <td>67</td>\n",
       "      <td>120</td>\n",
       "      <td>229</td>\n",
       "      <td>2</td>\n",
       "      <td>129</td>\n",
       "      <td>2.6</td>\n",
       "      <td>Yes</td>\n",
       "    </tr>\n",
       "    <tr>\n",
       "      <th>3</th>\n",
       "      <td>37</td>\n",
       "      <td>130</td>\n",
       "      <td>250</td>\n",
       "      <td>0</td>\n",
       "      <td>187</td>\n",
       "      <td>3.5</td>\n",
       "      <td>No</td>\n",
       "    </tr>\n",
       "    <tr>\n",
       "      <th>4</th>\n",
       "      <td>41</td>\n",
       "      <td>130</td>\n",
       "      <td>204</td>\n",
       "      <td>2</td>\n",
       "      <td>172</td>\n",
       "      <td>1.4</td>\n",
       "      <td>No</td>\n",
       "    </tr>\n",
       "  </tbody>\n",
       "</table>\n",
       "</div>"
      ],
      "text/plain": [
       "   Age  RestBP  Chol  RestECG  MaxHR  Oldpeak  AHD\n",
       "0   63     145   233        2    150      2.3   No\n",
       "1   67     160   286        2    108      1.5  Yes\n",
       "2   67     120   229        2    129      2.6  Yes\n",
       "3   37     130   250        0    187      3.5   No\n",
       "4   41     130   204        2    172      1.4   No"
      ]
     },
     "execution_count": 38,
     "metadata": {},
     "output_type": "execute_result"
    }
   ],
   "source": [
    "# reading the Heart_short.csv file from my hard drive and assigning it to a pandas dataframe\n",
    "\n",
    "hearts_df = pd.read_csv('C:/Users/TallGuy/Downloads/CS4661/HW3/Heart_short.csv')\n",
    "hearts_df.head() # displaying the head of the heart_short dataframe"
   ]
  },
  {
   "cell_type": "markdown",
   "metadata": {},
   "source": [
    "### b- Generate the feature matrix and label vector (AHD). Then, normalize (scale) the features."
   ]
  },
  {
   "cell_type": "code",
   "execution_count": 39,
   "metadata": {
    "collapsed": false
   },
   "outputs": [
    {
     "data": {
      "text/html": [
       "<div>\n",
       "<table border=\"1\" class=\"dataframe\">\n",
       "  <thead>\n",
       "    <tr style=\"text-align: right;\">\n",
       "      <th></th>\n",
       "      <th>Age</th>\n",
       "      <th>RestBP</th>\n",
       "      <th>Chol</th>\n",
       "      <th>RestECG</th>\n",
       "      <th>MaxHR</th>\n",
       "      <th>Oldpeak</th>\n",
       "    </tr>\n",
       "  </thead>\n",
       "  <tbody>\n",
       "    <tr>\n",
       "      <th>0</th>\n",
       "      <td>63</td>\n",
       "      <td>145</td>\n",
       "      <td>233</td>\n",
       "      <td>2</td>\n",
       "      <td>150</td>\n",
       "      <td>2.3</td>\n",
       "    </tr>\n",
       "    <tr>\n",
       "      <th>1</th>\n",
       "      <td>67</td>\n",
       "      <td>160</td>\n",
       "      <td>286</td>\n",
       "      <td>2</td>\n",
       "      <td>108</td>\n",
       "      <td>1.5</td>\n",
       "    </tr>\n",
       "    <tr>\n",
       "      <th>2</th>\n",
       "      <td>67</td>\n",
       "      <td>120</td>\n",
       "      <td>229</td>\n",
       "      <td>2</td>\n",
       "      <td>129</td>\n",
       "      <td>2.6</td>\n",
       "    </tr>\n",
       "    <tr>\n",
       "      <th>3</th>\n",
       "      <td>37</td>\n",
       "      <td>130</td>\n",
       "      <td>250</td>\n",
       "      <td>0</td>\n",
       "      <td>187</td>\n",
       "      <td>3.5</td>\n",
       "    </tr>\n",
       "    <tr>\n",
       "      <th>4</th>\n",
       "      <td>41</td>\n",
       "      <td>130</td>\n",
       "      <td>204</td>\n",
       "      <td>2</td>\n",
       "      <td>172</td>\n",
       "      <td>1.4</td>\n",
       "    </tr>\n",
       "  </tbody>\n",
       "</table>\n",
       "</div>"
      ],
      "text/plain": [
       "   Age  RestBP  Chol  RestECG  MaxHR  Oldpeak\n",
       "0   63     145   233        2    150      2.3\n",
       "1   67     160   286        2    108      1.5\n",
       "2   67     120   229        2    129      2.6\n",
       "3   37     130   250        0    187      3.5\n",
       "4   41     130   204        2    172      1.4"
      ]
     },
     "execution_count": 39,
     "metadata": {},
     "output_type": "execute_result"
    }
   ],
   "source": [
    "# creating the feature matrix\n",
    "\n",
    "features_hd = ['Age', 'RestBP', 'Chol', 'RestECG', 'MaxHR', 'Oldpeak']\n",
    "X3 = hearts_df[features_hd]\n",
    "X3.head() # printing the head of the feature matrix"
   ]
  },
  {
   "cell_type": "code",
   "execution_count": 40,
   "metadata": {
    "collapsed": false
   },
   "outputs": [
    {
     "data": {
      "text/plain": [
       "0    0\n",
       "1    1\n",
       "2    1\n",
       "3    0\n",
       "4    0\n",
       "Name: AHD, dtype: int64"
      ]
     },
     "execution_count": 40,
     "metadata": {},
     "output_type": "execute_result"
    }
   ],
   "source": [
    "# creating the label vector and changing the categorical feature into a numerical feature\n",
    "\n",
    "def categorical_to_numerical(x):\n",
    "    if x == 'Yes':\n",
    "        return 1\n",
    "    elif x == 'No':\n",
    "        return 0\n",
    "    \n",
    "Y3 = hearts_df['AHD'].apply(categorical_to_numerical)\n",
    "Y3.head() # displaying the head of the label vector"
   ]
  },
  {
   "cell_type": "code",
   "execution_count": 41,
   "metadata": {
    "collapsed": false
   },
   "outputs": [
    {
     "name": "stdout",
     "output_type": "stream",
     "text": [
      "[[ 0.94788279  0.74978425 -0.25859799  1.04743633 -0.00919313  1.13182982]\n",
      " [ 1.38542704  1.59842565  0.75330422  1.04743633 -1.84813139  0.43550978]\n",
      " [ 1.38542704 -0.6646181  -0.33496796  1.04743633 -0.92866226  1.39294984]\n",
      " ..., \n",
      " [ 0.29156641 -0.09885716 -2.20603242 -0.96851989 -1.54164168  0.17438976]\n",
      " [ 0.29156641 -0.09885716 -0.2013205   1.04743633  1.04162873 -0.8700903 ]\n",
      " [-1.78676878  0.35375159 -1.36596267 -0.96851989  0.99784448 -0.8700903 ]]\n"
     ]
    }
   ],
   "source": [
    "# normalizing the feature matrix\n",
    "\n",
    "X3_normal = preprocessing.scale(X3)\n",
    "print(X3_normal) # displaying the normalized features"
   ]
  },
  {
   "cell_type": "markdown",
   "metadata": {},
   "source": [
    "### c- Split the dataset into testing and training sets with the following parameters: test_size=0.2, random_state=3."
   ]
  },
  {
   "cell_type": "code",
   "execution_count": 42,
   "metadata": {
    "collapsed": true
   },
   "outputs": [],
   "source": [
    "# Splitting the data into 80% training and 20% testing with random state 3.\n",
    "\n",
    "X3_train, X3_test, Y3_train, Y3_test = train_test_split(X3_normal, Y3, test_size=0.2, random_state=3)"
   ]
  },
  {
   "cell_type": "markdown",
   "metadata": {},
   "source": [
    "### d- Use Logistic Regression Classifier to predict Heart Disease occurrence based on the training/testing datasets that you built in part(c). Then, compute and report the Accuracy."
   ]
  },
  {
   "cell_type": "code",
   "execution_count": 43,
   "metadata": {
    "collapsed": false
   },
   "outputs": [
    {
     "name": "stdout",
     "output_type": "stream",
     "text": [
      "[1 0 1 1 0 0 0 0 1 0 1 0 1 1 0 0 1 0 1 1 0 0 1 0 1 0 0 1 0 0 1 1 1 0 0 1 1\n",
      " 0 1 1 0 1 0 0 1 1 0 0 1 0 0 1 0 1 0 0 0]\n"
     ]
    }
   ],
   "source": [
    "# using the logistic regression classifier to predict heart disease\n",
    "\n",
    "from sklearn.linear_model import LogisticRegression\n",
    "\n",
    "my_logreg = LogisticRegression()\n",
    "my_logreg.fit(X3_train, Y3_train) # fitting the training data\n",
    "Y3_predict_lr = my_logreg.predict(X3_test) \n",
    "print(Y3_predict_lr) # displaying the heart disease prediction"
   ]
  },
  {
   "cell_type": "code",
   "execution_count": 44,
   "metadata": {
    "collapsed": false
   },
   "outputs": [
    {
     "name": "stdout",
     "output_type": "stream",
     "text": [
      "Accuracy of Logistic Regression Classifier: 0.701754385965\n"
     ]
    }
   ],
   "source": [
    "# computing the accuracy of the logistic regression classifier\n",
    "\n",
    "from sklearn.metrics import accuracy_score\n",
    "\n",
    "accuracy_score_lr = accuracy_score(Y3_test, Y3_predict_lr)\n",
    "\n",
    "print('Accuracy of Logistic Regression Classifier: ' + str(accuracy_score_lr)) # displaying the accuracy of log reg classifier"
   ]
  },
  {
   "cell_type": "markdown",
   "metadata": {},
   "source": [
    "### e- Now, Use Logistic Regression Classifier to predict the probability of Heart Disease based on the training/testing datasets that you built in part (c) (you have to use “my_logreg.predict_proba” method rather than “my_logreg.predict”). Then, Plot Roc Curve for this classifier, and also Compute the AUC (Area Under Curve for ROC)."
   ]
  },
  {
   "cell_type": "code",
   "execution_count": 46,
   "metadata": {
    "collapsed": false
   },
   "outputs": [
    {
     "name": "stdout",
     "output_type": "stream",
     "text": [
      "[ 0.50102546  0.44866578  0.56968509  0.61880501  0.14912372  0.23815782\n",
      "  0.2450554   0.12969191  0.65523956  0.35138608  0.90041243  0.08129492\n",
      "  0.71340004  0.5471148   0.32067845  0.13624307  0.89035019  0.34007876\n",
      "  0.89394678  0.65044747  0.1260156   0.14429784  0.76590559  0.06775119\n",
      "  0.87865977  0.42501833  0.29333296  0.56382476  0.33445983  0.20265605\n",
      "  0.70266925  0.86865072  0.83743209  0.12011109  0.20825064  0.98822841\n",
      "  0.93945121  0.24304704  0.8040581   0.51841253  0.30234292  0.71135238\n",
      "  0.32218759  0.18056311  0.97041773  0.68476137  0.12500001  0.13377015\n",
      "  0.64598572  0.36395134  0.38959662  0.80220778  0.03786847  0.77813521\n",
      "  0.12824011  0.1834758   0.10598781]\n"
     ]
    }
   ],
   "source": [
    "# estimating the probability of each label\n",
    "\n",
    "Y3_predict_lr_prob = my_logreg.predict_proba(X3_test)\n",
    "\n",
    "#print(Y3_predict_lr_prob) # displaying the estimated likelihood of the labels\n",
    "print(Y3_predict_lr_prob[:,1])"
   ]
  },
  {
   "cell_type": "code",
   "execution_count": 47,
   "metadata": {
    "collapsed": false
   },
   "outputs": [
    {
     "name": "stdout",
     "output_type": "stream",
     "text": [
      "False Positive Rate: [ 0.          0.03333333  0.03333333  0.13333333  0.13333333  0.2         0.2\n",
      "  0.26666667  0.26666667  0.4         0.4         0.5         0.5\n",
      "  0.53333333  0.53333333  0.63333333  0.63333333  0.7         0.7\n",
      "  0.73333333  0.73333333  0.76666667  0.76666667  0.8         0.8         1.        ]\n",
      "True Positive Rate: [ 0.03703704  0.03703704  0.40740741  0.40740741  0.62962963  0.62962963\n",
      "  0.66666667  0.66666667  0.7037037   0.7037037   0.74074074  0.74074074\n",
      "  0.77777778  0.77777778  0.81481481  0.81481481  0.85185185  0.85185185\n",
      "  0.88888889  0.88888889  0.92592593  0.92592593  0.96296296  0.96296296\n",
      "  1.          1.        ]\n"
     ]
    }
   ],
   "source": [
    "# calculating and printing the true positive rate and the false positive rate\n",
    "\n",
    "from sklearn import metrics\n",
    "\n",
    "fpr, tpr, thresholds = metrics.roc_curve(Y3_test, Y3_predict_lr_prob[:,1], pos_label=1)\n",
    "\n",
    "print('False Positive Rate: ' + str(fpr))\n",
    "print('True Positive Rate: ' + str(tpr))"
   ]
  },
  {
   "cell_type": "code",
   "execution_count": 48,
   "metadata": {
    "collapsed": false
   },
   "outputs": [
    {
     "name": "stdout",
     "output_type": "stream",
     "text": [
      "Area Under The Curve: 0.753086419753\n"
     ]
    }
   ],
   "source": [
    "# calculating and displaying the area under the curve\n",
    "\n",
    "AUC = metrics.auc(fpr, tpr)\n",
    "print('Area Under The Curve: ' + str(AUC))"
   ]
  },
  {
   "cell_type": "code",
   "execution_count": 49,
   "metadata": {
    "collapsed": false
   },
   "outputs": [
    {
     "data": {
      "image/png": "[encoded data removed]",
      "text/plain": [
       "<matplotlib.figure.Figure at 0x1eb90a83898>"
      ]
     },
     "metadata": {},
     "output_type": "display_data"
    }
   ],
   "source": [
    "# graphing the receiver operating characteristic curve for heart disease\n",
    "\n",
    "import matplotlib.pyplot as plt\n",
    "\n",
    "%matplotlib inline\n",
    "plt.figure()\n",
    "\n",
    "# Roc Curve:\n",
    "plt.plot(fpr, tpr, color='red', lw=2, \n",
    "         label='ROC Curve (area = %0.2f)' % AUC)\n",
    "\n",
    "# Random Guess line:\n",
    "plt.plot([0, 1], [0, 1], color='green', lw=1, linestyle='--')\n",
    "\n",
    "# Defining The Range of X-Axis and Y-Axis:\n",
    "plt.xlim([-0.005, 1.005])\n",
    "plt.ylim([0.0, 1.01])\n",
    "\n",
    "# Labels, Title, Legend:\n",
    "plt.xlabel('False Positive Rate')\n",
    "plt.ylabel('True Positive Rate')\n",
    "plt.title('ROC for Heart Disease')\n",
    "plt.legend(loc=\"lower right\")\n",
    "\n",
    "plt.show()"
   ]
  },
  {
   "cell_type": "code",
   "execution_count": null,
   "metadata": {
    "collapsed": true
   },
   "outputs": [],
   "source": []
  }
 ],
 "metadata": {
  "anaconda-cloud": {},
  "kernelspec": {
   "display_name": "Python [Root]",
   "language": "python",
   "name": "Python [Root]"
  },
  "language_info": {
   "codemirror_mode": {
    "name": "ipython",
    "version": 3
   },
   "file_extension": ".py",
   "mimetype": "text/x-python",
   "name": "python",
   "nbconvert_exporter": "python",
   "pygments_lexer": "ipython3",
   "version": "3.5.2"
  }
 },
 "nbformat": 4,
 "nbformat_minor": 0
}
