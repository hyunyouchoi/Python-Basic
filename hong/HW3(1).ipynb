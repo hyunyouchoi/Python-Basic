{
 "cells": [
  {
   "cell_type": "code",
   "execution_count": 83,
   "metadata": {
    "collapsed": false
   },
   "outputs": [],
   "source": [
    "import pandas as pd\n",
    "import numpy as np\n",
    "\n",
    "from sklearn.model_selection import train_test_split\n",
    "from sklearn.tree import DecisionTreeClassifier\n",
    "from sklearn.linear_model import LogisticRegression\n",
    "from sklearn.cross_validation import cross_val_score\n",
    "\n",
    "from sklearn.linear_model import LinearRegression\n",
    "from sklearn.neighbors import KNeighborsClassifier\n",
    "from sklearn.metrics import accuracy_score"
   ]
  },
  {
   "cell_type": "code",
   "execution_count": 3,
   "metadata": {
    "collapsed": false
   },
   "outputs": [
    {
     "name": "stdout",
     "output_type": "stream",
     "text": [
      "C:\\Users\\Choi Hyun You\\desktop\\hw3\n"
     ]
    }
   ],
   "source": [
    "cd C:\\Users\\Choi Hyun You\\desktop\\hw3"
   ]
  },
  {
   "cell_type": "markdown",
   "metadata": {},
   "source": [
    "a- Read\tthe\tdataset\tfile\t“Hearts_s.csv”\t(you\tshould\tdownload\tit\tfrom\tCSNS),\tand\tassign\tit\tto\ta\tPandas\tDataFrame.\t"
   ]
  },
  {
   "cell_type": "code",
   "execution_count": 36,
   "metadata": {
    "collapsed": true
   },
   "outputs": [],
   "source": [
    "df = pd.read_csv('Heart_s.csv')"
   ]
  },
  {
   "cell_type": "code",
   "execution_count": 5,
   "metadata": {
    "collapsed": false
   },
   "outputs": [
    {
     "data": {
      "text/plain": [
       "(303, 10)"
      ]
     },
     "execution_count": 5,
     "metadata": {},
     "output_type": "execute_result"
    }
   ],
   "source": [
    "df.shape"
   ]
  },
  {
   "cell_type": "markdown",
   "metadata": {},
   "source": [
    "b- Check\tout\tthe\tdataset.\tAs\tyou\tsee,\tthe\tdataset\tcontains\ta\tnumber\tof\tfeatures\tincluding\tboth\tcontextual\tand\tbiological\tfactors\t(e.g.\tage,\tgender,\tvital\tsigns,\t…).\tThe\tlast\tcolumn\t“AHD”\tis\tthe\tlabel\twith\t“Yes”\tmeaning\tthat\ta\thuman\tsubject\thas\tHeart\tDisease,\tand\t“No”\tmeaning\tthat\tthe\tsubject\tdoes\tnot\thave\tHeart\tDisease"
   ]
  },
  {
   "cell_type": "code",
   "execution_count": 6,
   "metadata": {
    "collapsed": false
   },
   "outputs": [
    {
     "data": {
      "text/html": [
       "<div>\n",
       "<table border=\"1\" class=\"dataframe\">\n",
       "  <thead>\n",
       "    <tr style=\"text-align: right;\">\n",
       "      <th></th>\n",
       "      <th>Age</th>\n",
       "      <th>Gender</th>\n",
       "      <th>ChestPain</th>\n",
       "      <th>RestBP</th>\n",
       "      <th>Chol</th>\n",
       "      <th>RestECG</th>\n",
       "      <th>MaxHR</th>\n",
       "      <th>Oldpeak</th>\n",
       "      <th>Thal</th>\n",
       "      <th>AHD</th>\n",
       "    </tr>\n",
       "  </thead>\n",
       "  <tbody>\n",
       "    <tr>\n",
       "      <th>0</th>\n",
       "      <td>63</td>\n",
       "      <td>f</td>\n",
       "      <td>typical</td>\n",
       "      <td>145</td>\n",
       "      <td>233</td>\n",
       "      <td>2</td>\n",
       "      <td>150</td>\n",
       "      <td>2.3</td>\n",
       "      <td>fixed</td>\n",
       "      <td>No</td>\n",
       "    </tr>\n",
       "    <tr>\n",
       "      <th>1</th>\n",
       "      <td>67</td>\n",
       "      <td>f</td>\n",
       "      <td>asymptomatic</td>\n",
       "      <td>160</td>\n",
       "      <td>286</td>\n",
       "      <td>2</td>\n",
       "      <td>108</td>\n",
       "      <td>1.5</td>\n",
       "      <td>normal</td>\n",
       "      <td>Yes</td>\n",
       "    </tr>\n",
       "    <tr>\n",
       "      <th>2</th>\n",
       "      <td>67</td>\n",
       "      <td>f</td>\n",
       "      <td>asymptomatic</td>\n",
       "      <td>120</td>\n",
       "      <td>229</td>\n",
       "      <td>2</td>\n",
       "      <td>129</td>\n",
       "      <td>2.6</td>\n",
       "      <td>reversable</td>\n",
       "      <td>Yes</td>\n",
       "    </tr>\n",
       "    <tr>\n",
       "      <th>3</th>\n",
       "      <td>37</td>\n",
       "      <td>f</td>\n",
       "      <td>nonanginal</td>\n",
       "      <td>130</td>\n",
       "      <td>250</td>\n",
       "      <td>0</td>\n",
       "      <td>187</td>\n",
       "      <td>3.5</td>\n",
       "      <td>normal</td>\n",
       "      <td>No</td>\n",
       "    </tr>\n",
       "    <tr>\n",
       "      <th>4</th>\n",
       "      <td>41</td>\n",
       "      <td>m</td>\n",
       "      <td>nontypical</td>\n",
       "      <td>130</td>\n",
       "      <td>204</td>\n",
       "      <td>2</td>\n",
       "      <td>172</td>\n",
       "      <td>1.4</td>\n",
       "      <td>normal</td>\n",
       "      <td>No</td>\n",
       "    </tr>\n",
       "  </tbody>\n",
       "</table>\n",
       "</div>"
      ],
      "text/plain": [
       "   Age Gender     ChestPain  RestBP  Chol  RestECG  MaxHR  Oldpeak  \\\n",
       "0   63      f       typical     145   233        2    150      2.3   \n",
       "1   67      f  asymptomatic     160   286        2    108      1.5   \n",
       "2   67      f  asymptomatic     120   229        2    129      2.6   \n",
       "3   37      f    nonanginal     130   250        0    187      3.5   \n",
       "4   41      m    nontypical     130   204        2    172      1.4   \n",
       "\n",
       "         Thal  AHD  \n",
       "0       fixed   No  \n",
       "1      normal  Yes  \n",
       "2  reversable  Yes  \n",
       "3      normal   No  \n",
       "4      normal   No  "
      ]
     },
     "execution_count": 6,
     "metadata": {},
     "output_type": "execute_result"
    }
   ],
   "source": [
    "df.head()"
   ]
  },
  {
   "cell_type": "markdown",
   "metadata": {},
   "source": [
    "c- As\tyou\tsee,\tthere\tare\tat\tleast\t3\tcategorical\tfeatures\tin\tthe\tdataset\t(Gender,\tChestPain,\tThal).\tLet’s\tignore\tthese\tcategorical\tfeatures\tfor\tnow,\tonly\tkeep\tthe\tnumerical\tfeatures\tand\tbuild\tyour\tfeature\tmatrix\tand\tlabel\tvector."
   ]
  },
  {
   "cell_type": "code",
   "execution_count": 7,
   "metadata": {
    "collapsed": true
   },
   "outputs": [],
   "source": [
    "df_x = df[['Age','RestBP','Chol','RestECG','MaxHR','Oldpeak']]\n",
    "df_y = df[['AHD']]"
   ]
  },
  {
   "cell_type": "markdown",
   "metadata": {},
   "source": [
    "d- Split\tthe\tdataset\tinto\ttesting\tand\ttraining\tsets\twith\tthe\tfollowing\tparameters:\ttest_size=0.3,\trandom_state=3."
   ]
  },
  {
   "cell_type": "code",
   "execution_count": 8,
   "metadata": {
    "collapsed": true
   },
   "outputs": [],
   "source": [
    "X_train, X_test, y_train, y_test = train_test_split(df_x, df_y, test_size=0.3, random_state=3)"
   ]
  },
  {
   "cell_type": "markdown",
   "metadata": {},
   "source": [
    "e- Use\tKNN\t(with\tk=5),\tDecision\tTree,\tand\tLogistic\tRegression\tClassifiers\tto\tpredict\tHeart\tDisease\tbased\ton\tthe\ttraining/testing\tdatasets\tthat\tyou\tbuilt\tin\tpart\t(d).\tThen\tcheck,\tcompare,\tand\treport\tthe\taccuracy\tof\tthese\t3\tclassifiers.\tWhich\tone\tis\tthe\tbest?\tWhich\tone\tis\tthe\tworst"
   ]
  },
  {
   "cell_type": "code",
   "execution_count": 30,
   "metadata": {
    "collapsed": false
   },
   "outputs": [
    {
     "name": "stdout",
     "output_type": "stream",
     "text": [
      "accuracy of KNN is 0.527472527473\n",
      "accuracy of Decision Tree is 0.626373626374\n",
      "accuracy of Logistic Regression is 0.725274725275\n"
     ]
    },
    {
     "name": "stderr",
     "output_type": "stream",
     "text": [
      "C:\\Users\\Choi Hyun You\\Anaconda2-1\\lib\\site-packages\\ipykernel\\__main__.py:3: DataConversionWarning: A column-vector y was passed when a 1d array was expected. Please change the shape of y to (n_samples, ), for example using ravel().\n",
      "  app.launch_new_instance()\n"
     ]
    }
   ],
   "source": [
    "#KNN\n",
    "my_knn = KNeighborsClassifier(n_neighbors=5)\n",
    "my_knn.fit(X_train, y_train)\n",
    "y_pred_knn = my_knn.predict(X_test)\n",
    "score_knn = accuracy_score(y_test, y_predict_dt)\n",
    "print\"accuracy of KNN is\", (score_knn)\n",
    "\n",
    "#Decision Tree\n",
    "my_decisiontree = DecisionTreeClassifier()\n",
    "my_decisiontree.fit(X_train, y_train)\n",
    "y_predict_dt = my_decisiontree.predict(X_test)\n",
    "score_dt = accuracy_score(y_test, y_predict_dt)\n",
    "print\"accuracy of Decision Tree is\", (score_dt)\n",
    "\n",
    "#Logistic Regression\n",
    "my_logreg = LogisticRegression()\n",
    "my_logreg.fit(X_train, y_train)\n",
    "y_predict_lr = my_logreg.predict(X_test)\n",
    "score_lr = accuracy_score(y_test, y_predict_lr)\n",
    "print \"accuracy of Logistic Regression is\", (score_lr)"
   ]
  },
  {
   "cell_type": "markdown",
   "metadata": {},
   "source": [
    "The Logistic Regression is best classifier. "
   ]
  },
  {
   "cell_type": "markdown",
   "metadata": {},
   "source": [
    "f- Now,\twe\twant\tto\tuse\tthe\tcategorical\tfeatures\tas\twell!\tTo\tthis\tend,\twe\thave\tto\tperform\ta\tfeature\tengineering\tprocess\tcalled\tOneHotEncoding\tfor\tthe\tcategorical\tfeatures.\tTo\tdo\tthis,\teach\tcategorical\tfeature\tshould\tbe\treplaced\twith\tdummy\tcolumns\tin\tthe\tfeature\ttable\t(one\tcolumn\tfor\teach\tpossible\tvalue\tof\ta\tcategorical\tfeature),\tand\tthen\tencode\tit\tin\ta\tbinary\tmanner\tsuch\tthat\tonly\tone\tof\tthe\tdummy\tcolumns\tcan\ttake\t“1”\tat\ta\ttime\t(and\tzero\tfor\tthe\trest).\tFor\texample,\t“Gender”\tcan\ttake\ttwo\tvalues\t“m”\tand\t“f”.\t\tThus,\twe\tneed\tto\treplace\tthis\tfeature\t(in\tthe\tfeature\ttable)\tby\t2\tcolumns\ttitled\t“m”\tand\t“f”.\t\tWherever\twe\thave\ta\tmale\tsubject,\twe\tcan\tput\t“1”\tand\t”0”\tin\tthe\tcolumns\t“m”\tand\t“f”.\t\tWherever\twe\thave\ta\tfemale\tsubject,\twe\tcan\tput\t“0”\tand\t”1”\tin\tthe\tcolumns\t“m”\tand\t“f”.\t(Hint:\tyou\twill\tneed\t4\tcolumns\tto\tencode\t“ChestPain”\tand\t3\tcolumns\tto\tencode\t“Thal”).\t"
   ]
  },
  {
   "cell_type": "code",
   "execution_count": 45,
   "metadata": {
    "collapsed": false
   },
   "outputs": [],
   "source": [
    "new = {\"No\":0,\"Yes\":1}\n",
    "df_categorical = df.replace({\"AHD\":new})"
   ]
  },
  {
   "cell_type": "code",
   "execution_count": 46,
   "metadata": {
    "collapsed": false
   },
   "outputs": [
    {
     "data": {
      "text/html": [
       "<div>\n",
       "<table border=\"1\" class=\"dataframe\">\n",
       "  <thead>\n",
       "    <tr style=\"text-align: right;\">\n",
       "      <th></th>\n",
       "      <th>Age</th>\n",
       "      <th>Gender</th>\n",
       "      <th>ChestPain</th>\n",
       "      <th>RestBP</th>\n",
       "      <th>Chol</th>\n",
       "      <th>RestECG</th>\n",
       "      <th>MaxHR</th>\n",
       "      <th>Oldpeak</th>\n",
       "      <th>Thal</th>\n",
       "      <th>AHD</th>\n",
       "    </tr>\n",
       "  </thead>\n",
       "  <tbody>\n",
       "    <tr>\n",
       "      <th>0</th>\n",
       "      <td>63</td>\n",
       "      <td>f</td>\n",
       "      <td>typical</td>\n",
       "      <td>145</td>\n",
       "      <td>233</td>\n",
       "      <td>2</td>\n",
       "      <td>150</td>\n",
       "      <td>2.3</td>\n",
       "      <td>fixed</td>\n",
       "      <td>0</td>\n",
       "    </tr>\n",
       "    <tr>\n",
       "      <th>1</th>\n",
       "      <td>67</td>\n",
       "      <td>f</td>\n",
       "      <td>asymptomatic</td>\n",
       "      <td>160</td>\n",
       "      <td>286</td>\n",
       "      <td>2</td>\n",
       "      <td>108</td>\n",
       "      <td>1.5</td>\n",
       "      <td>normal</td>\n",
       "      <td>1</td>\n",
       "    </tr>\n",
       "    <tr>\n",
       "      <th>2</th>\n",
       "      <td>67</td>\n",
       "      <td>f</td>\n",
       "      <td>asymptomatic</td>\n",
       "      <td>120</td>\n",
       "      <td>229</td>\n",
       "      <td>2</td>\n",
       "      <td>129</td>\n",
       "      <td>2.6</td>\n",
       "      <td>reversable</td>\n",
       "      <td>1</td>\n",
       "    </tr>\n",
       "    <tr>\n",
       "      <th>3</th>\n",
       "      <td>37</td>\n",
       "      <td>f</td>\n",
       "      <td>nonanginal</td>\n",
       "      <td>130</td>\n",
       "      <td>250</td>\n",
       "      <td>0</td>\n",
       "      <td>187</td>\n",
       "      <td>3.5</td>\n",
       "      <td>normal</td>\n",
       "      <td>0</td>\n",
       "    </tr>\n",
       "    <tr>\n",
       "      <th>4</th>\n",
       "      <td>41</td>\n",
       "      <td>m</td>\n",
       "      <td>nontypical</td>\n",
       "      <td>130</td>\n",
       "      <td>204</td>\n",
       "      <td>2</td>\n",
       "      <td>172</td>\n",
       "      <td>1.4</td>\n",
       "      <td>normal</td>\n",
       "      <td>0</td>\n",
       "    </tr>\n",
       "  </tbody>\n",
       "</table>\n",
       "</div>"
      ],
      "text/plain": [
       "   Age Gender     ChestPain  RestBP  Chol  RestECG  MaxHR  Oldpeak  \\\n",
       "0   63      f       typical     145   233        2    150      2.3   \n",
       "1   67      f  asymptomatic     160   286        2    108      1.5   \n",
       "2   67      f  asymptomatic     120   229        2    129      2.6   \n",
       "3   37      f    nonanginal     130   250        0    187      3.5   \n",
       "4   41      m    nontypical     130   204        2    172      1.4   \n",
       "\n",
       "         Thal  AHD  \n",
       "0       fixed    0  \n",
       "1      normal    1  \n",
       "2  reversable    1  \n",
       "3      normal    0  \n",
       "4      normal    0  "
      ]
     },
     "execution_count": 46,
     "metadata": {},
     "output_type": "execute_result"
    }
   ],
   "source": [
    "df_categorical.head()"
   ]
  },
  {
   "cell_type": "code",
   "execution_count": 51,
   "metadata": {
    "collapsed": false
   },
   "outputs": [],
   "source": [
    "df_dummies= pd.get_dummies(df_categorical)"
   ]
  },
  {
   "cell_type": "code",
   "execution_count": 57,
   "metadata": {
    "collapsed": false
   },
   "outputs": [
    {
     "data": {
      "text/plain": [
       "(303, 16)"
      ]
     },
     "execution_count": 57,
     "metadata": {},
     "output_type": "execute_result"
    }
   ],
   "source": [
    "df_dummies.shape"
   ]
  },
  {
   "cell_type": "markdown",
   "metadata": {},
   "source": [
    "g- Repeat\tparts\t(d)\tand\t(e)\twith\tthe\tnew\tdataset\tthat\tyou\tbuilt\tin\tpart\t(f).\tHow\tdoes\tthe\tprediction\taccuracy\tchange\tfor\teach\tmethod?"
   ]
  },
  {
   "cell_type": "code",
   "execution_count": 54,
   "metadata": {
    "collapsed": false
   },
   "outputs": [],
   "source": [
    "df_dummies_x = df_dummies.drop(\"AHD\", axis =1)\n",
    "df_dummies_y = df_dummies[['AHD']]"
   ]
  },
  {
   "cell_type": "code",
   "execution_count": 59,
   "metadata": {
    "collapsed": true
   },
   "outputs": [],
   "source": [
    "X_train, X_test, y_train, y_test = train_test_split(df_dummies_x, df_dummies_y, test_size=0.3, random_state=3)"
   ]
  },
  {
   "cell_type": "code",
   "execution_count": 64,
   "metadata": {
    "collapsed": false
   },
   "outputs": [
    {
     "name": "stdout",
     "output_type": "stream",
     "text": [
      "accuracy of KNN is 0.725274725275\n",
      "accuracy of Decision Tree is 0.791208791209\n",
      "accuracy of Logistic Regression is 0.846153846154\n"
     ]
    },
    {
     "name": "stderr",
     "output_type": "stream",
     "text": [
      "C:\\Users\\Choi Hyun You\\Anaconda2-1\\lib\\site-packages\\ipykernel\\__main__.py:3: DataConversionWarning: A column-vector y was passed when a 1d array was expected. Please change the shape of y to (n_samples, ), for example using ravel().\n",
      "  app.launch_new_instance()\n"
     ]
    }
   ],
   "source": [
    "#KNN\n",
    "my_knn = KNeighborsClassifier(n_neighbors=5)\n",
    "my_knn.fit(X_train, y_train)\n",
    "y_pred_knn = my_knn.predict(X_test)\n",
    "score_knn = accuracy_score(y_test, y_predict_dt)\n",
    "print\"accuracy of KNN is\", (score_knn)\n",
    "\n",
    "#Decision Tree\n",
    "my_decisiontree = DecisionTreeClassifier()\n",
    "my_decisiontree.fit(X_train, y_train)\n",
    "y_predict_dt = my_decisiontree.predict(X_test)\n",
    "score_dt = accuracy_score(y_test, y_predict_dt)\n",
    "print\"accuracy of Decision Tree is\", (score_dt)\n",
    "\n",
    "#Logistic Regression\n",
    "my_logreg = LogisticRegression()\n",
    "my_logreg.fit(X_train, y_train)\n",
    "y_predict_lr = my_logreg.predict(X_test)\n",
    "score_lr = accuracy_score(y_test, y_predict_lr)\n",
    "print \"accuracy of Logistic Regression is\", (score_lr)"
   ]
  },
  {
   "cell_type": "markdown",
   "metadata": {},
   "source": [
    "h- Now,\trepeat\tpart\t(e)\twith\tthe\tnew\tdataset\tthat\tyou\tbuilt\tin\tpart\t(f),\tthis\ttime\tusing\tCrossValidation.\tThus,\trather\tthan\tsplitting\tthe\tdataset\tinto\ttesting\tand\ttraining,\tuse\t10-fold\tCross-Validation\t(as\twe\tlearned\tin\tLab4)\tto\tevaluate\tthe\tclassification\tmethods\tand\treport\tthe\tfinal\tprediction\taccuracy.\t\t\t"
   ]
  },
  {
   "cell_type": "markdown",
   "metadata": {},
   "source": [
    "# Question2:\tDebt\tPrediction\t\n"
   ]
  },
  {
   "cell_type": "markdown",
   "metadata": {},
   "source": [
    "a- Read\tthe\tdataset\tfile\t“Credit.csv”\t(you\tshould\tdownload\tit\tfrom\tCSNS),\tand\tassign\tit\tto\ta\tPandas\tDataFrame."
   ]
  },
  {
   "cell_type": "code",
   "execution_count": 67,
   "metadata": {
    "collapsed": true
   },
   "outputs": [],
   "source": [
    "df = pd.read_csv('Credit.csv')"
   ]
  },
  {
   "cell_type": "markdown",
   "metadata": {},
   "source": [
    "b- Check\tout\tthe\tdataset.\tThe\t“Credit”\tdataset\tincludes\t“balance”\tcolumn\t(average\tcredit\tcard\tdebt\tfor\ta\tnumber\tof\tindividuals)\tas\ttarget,\tas\twell\tas\tseveral\tfeatures:\tage,\tcards\t(number\tof\tcredit\tcards),\teducation\t(years\tof\teducation),\tincome\t(in\tthousands\tof\tdollars),\tlimit\t(credit\tlimit),\tmarital\tstatus,\tand\trating\t(credit\trating).\t"
   ]
  },
  {
   "cell_type": "code",
   "execution_count": 68,
   "metadata": {
    "collapsed": false
   },
   "outputs": [
    {
     "data": {
      "text/html": [
       "<div>\n",
       "<table border=\"1\" class=\"dataframe\">\n",
       "  <thead>\n",
       "    <tr style=\"text-align: right;\">\n",
       "      <th></th>\n",
       "      <th>Income</th>\n",
       "      <th>Limit</th>\n",
       "      <th>Rating</th>\n",
       "      <th>Cards</th>\n",
       "      <th>Age</th>\n",
       "      <th>Education</th>\n",
       "      <th>Married</th>\n",
       "      <th>Balance</th>\n",
       "    </tr>\n",
       "  </thead>\n",
       "  <tbody>\n",
       "    <tr>\n",
       "      <th>0</th>\n",
       "      <td>14.891</td>\n",
       "      <td>3606</td>\n",
       "      <td>283</td>\n",
       "      <td>2</td>\n",
       "      <td>34</td>\n",
       "      <td>11</td>\n",
       "      <td>1</td>\n",
       "      <td>333</td>\n",
       "    </tr>\n",
       "    <tr>\n",
       "      <th>1</th>\n",
       "      <td>106.025</td>\n",
       "      <td>6645</td>\n",
       "      <td>483</td>\n",
       "      <td>3</td>\n",
       "      <td>82</td>\n",
       "      <td>15</td>\n",
       "      <td>1</td>\n",
       "      <td>903</td>\n",
       "    </tr>\n",
       "    <tr>\n",
       "      <th>2</th>\n",
       "      <td>104.593</td>\n",
       "      <td>7075</td>\n",
       "      <td>514</td>\n",
       "      <td>4</td>\n",
       "      <td>71</td>\n",
       "      <td>11</td>\n",
       "      <td>0</td>\n",
       "      <td>580</td>\n",
       "    </tr>\n",
       "    <tr>\n",
       "      <th>3</th>\n",
       "      <td>148.924</td>\n",
       "      <td>9504</td>\n",
       "      <td>681</td>\n",
       "      <td>3</td>\n",
       "      <td>36</td>\n",
       "      <td>11</td>\n",
       "      <td>0</td>\n",
       "      <td>964</td>\n",
       "    </tr>\n",
       "    <tr>\n",
       "      <th>4</th>\n",
       "      <td>55.882</td>\n",
       "      <td>4897</td>\n",
       "      <td>357</td>\n",
       "      <td>2</td>\n",
       "      <td>68</td>\n",
       "      <td>16</td>\n",
       "      <td>1</td>\n",
       "      <td>331</td>\n",
       "    </tr>\n",
       "  </tbody>\n",
       "</table>\n",
       "</div>"
      ],
      "text/plain": [
       "    Income  Limit  Rating  Cards  Age  Education  Married  Balance\n",
       "0   14.891   3606     283      2   34         11        1      333\n",
       "1  106.025   6645     483      3   82         15        1      903\n",
       "2  104.593   7075     514      4   71         11        0      580\n",
       "3  148.924   9504     681      3   36         11        0      964\n",
       "4   55.882   4897     357      2   68         16        1      331"
      ]
     },
     "execution_count": 68,
     "metadata": {},
     "output_type": "execute_result"
    }
   ],
   "source": [
    "df.head()"
   ]
  },
  {
   "cell_type": "markdown",
   "metadata": {},
   "source": [
    "c- Generate\tthe\tfeature\tmatrix\tand\ttarget\tvector\t(target\tis\t“balance”\tin\tthis\tdataset).\tThen,\tnormalize\t(scale)\tthe\tfeatures\t(note:\tdon’t\tnormalize\tthe\ttarget\tvector!)"
   ]
  },
  {
   "cell_type": "code",
   "execution_count": 69,
   "metadata": {
    "collapsed": true
   },
   "outputs": [],
   "source": [
    "df_x = df.drop(\"Balance\", axis =1)\n",
    "df_target = df[['Balance']]"
   ]
  },
  {
   "cell_type": "code",
   "execution_count": 80,
   "metadata": {
    "collapsed": false
   },
   "outputs": [],
   "source": [
    "from sklearn import preprocessing\n",
    "\n",
    "x = df_x.values #returns a numpy array\n",
    "min_max_scaler = preprocessing.MinMaxScaler()\n",
    "x_scaled = min_max_scaler.fit_transform(x)\n",
    "df_x = pd.DataFrame(x_scaled)\n",
    "\n",
    "df_x = df_x.rename(columns={0: 'Income', 1: 'Limit', 2: 'Rating', 3: 'Card', \n",
    "                            4: 'Age', 5: 'Education',6: 'Married'})"
   ]
  },
  {
   "cell_type": "code",
   "execution_count": 81,
   "metadata": {
    "collapsed": false
   },
   "outputs": [
    {
     "data": {
      "text/html": [
       "<div>\n",
       "<table border=\"1\" class=\"dataframe\">\n",
       "  <thead>\n",
       "    <tr style=\"text-align: right;\">\n",
       "      <th></th>\n",
       "      <th>Income</th>\n",
       "      <th>Limit</th>\n",
       "      <th>Rating</th>\n",
       "      <th>Card</th>\n",
       "      <th>Age</th>\n",
       "      <th>Education</th>\n",
       "      <th>Married</th>\n",
       "    </tr>\n",
       "  </thead>\n",
       "  <tbody>\n",
       "    <tr>\n",
       "      <th>0</th>\n",
       "      <td>0.025737</td>\n",
       "      <td>0.210675</td>\n",
       "      <td>0.213723</td>\n",
       "      <td>0.125</td>\n",
       "      <td>0.146667</td>\n",
       "      <td>0.400000</td>\n",
       "      <td>1.0</td>\n",
       "    </tr>\n",
       "    <tr>\n",
       "      <th>1</th>\n",
       "      <td>0.542722</td>\n",
       "      <td>0.443406</td>\n",
       "      <td>0.438695</td>\n",
       "      <td>0.250</td>\n",
       "      <td>0.786667</td>\n",
       "      <td>0.666667</td>\n",
       "      <td>1.0</td>\n",
       "    </tr>\n",
       "    <tr>\n",
       "      <th>2</th>\n",
       "      <td>0.534598</td>\n",
       "      <td>0.476336</td>\n",
       "      <td>0.473566</td>\n",
       "      <td>0.375</td>\n",
       "      <td>0.640000</td>\n",
       "      <td>0.400000</td>\n",
       "      <td>0.0</td>\n",
       "    </tr>\n",
       "    <tr>\n",
       "      <th>3</th>\n",
       "      <td>0.786079</td>\n",
       "      <td>0.662353</td>\n",
       "      <td>0.661417</td>\n",
       "      <td>0.250</td>\n",
       "      <td>0.173333</td>\n",
       "      <td>0.400000</td>\n",
       "      <td>0.0</td>\n",
       "    </tr>\n",
       "    <tr>\n",
       "      <th>4</th>\n",
       "      <td>0.258271</td>\n",
       "      <td>0.309542</td>\n",
       "      <td>0.296963</td>\n",
       "      <td>0.125</td>\n",
       "      <td>0.600000</td>\n",
       "      <td>0.733333</td>\n",
       "      <td>1.0</td>\n",
       "    </tr>\n",
       "  </tbody>\n",
       "</table>\n",
       "</div>"
      ],
      "text/plain": [
       "     Income     Limit    Rating   Card       Age  Education  Married\n",
       "0  0.025737  0.210675  0.213723  0.125  0.146667   0.400000      1.0\n",
       "1  0.542722  0.443406  0.438695  0.250  0.786667   0.666667      1.0\n",
       "2  0.534598  0.476336  0.473566  0.375  0.640000   0.400000      0.0\n",
       "3  0.786079  0.662353  0.661417  0.250  0.173333   0.400000      0.0\n",
       "4  0.258271  0.309542  0.296963  0.125  0.600000   0.733333      1.0"
      ]
     },
     "execution_count": 81,
     "metadata": {},
     "output_type": "execute_result"
    }
   ],
   "source": [
    "df_x.head()"
   ]
  },
  {
   "cell_type": "markdown",
   "metadata": {},
   "source": [
    "d- Split\tthe\tdataset\tinto\ttesting\tand\ttraining\tsets\twith\tthe\tfollowing\tparameters:\ttest_size=0.2,\trandom_state=2.\t"
   ]
  },
  {
   "cell_type": "code",
   "execution_count": 82,
   "metadata": {
    "collapsed": false
   },
   "outputs": [],
   "source": [
    "X_train, X_test, y_train, y_test = train_test_split(df_x, df_target, test_size=0.2, random_state=2)"
   ]
  },
  {
   "cell_type": "markdown",
   "metadata": {},
   "source": [
    "e- Use\tLinear\tRegression\tto\ttrain\ta\tlinear\tmodel\ton\tthe\ttraining\tset.\tCheck\tthe\tcoefficients\tof\tthe\tlinear\tregression\tmodel.\tWhich\tfeature\tis\tthe\tmost\timportant?\tWhich\tfeature\tis\tthe\tleast\timportant?"
   ]
  },
  {
   "cell_type": "code",
   "execution_count": 90,
   "metadata": {
    "collapsed": false
   },
   "outputs": [
    {
     "name": "stdout",
     "output_type": "stream",
     "text": [
      "[-217.5215985]\n",
      "[[-1335.05622712  1274.31561504  2210.09784246    92.0226555    -78.07984853\n",
      "     30.25533254   -48.45522561]]\n"
     ]
    }
   ],
   "source": [
    "my_linreg = LinearRegression()\n",
    "my_linreg.fit(X_train, y_train)\n",
    "\n",
    "# printing Theta0 using attribute \"intercept_\":\n",
    "print(my_linreg.intercept_)\n",
    "\n",
    "# printing [Theta1, Theta2, Theta3] using attribute \"coef_\":\n",
    "print(my_linreg.coef_)\n",
    "\n",
    "# make predictions on the testing set\n",
    "y_prediction = my_linreg.predict(X_test)\n"
   ]
  },
  {
   "cell_type": "markdown",
   "metadata": {},
   "source": [
    "f- Predict\t“balance”\tfor\tthe\tusers\tin\ttesting\tset.\tThen,\tcompare\tthe\tpredicted\tbalance\twith\tthe\tactual\tbalance\tby\tcalculating\tand\treporting\tthe\tRMSE\t(as\twe\tsaw\tin\tlab\ttutorial\t4)"
   ]
  },
  {
   "cell_type": "code",
   "execution_count": 91,
   "metadata": {
    "collapsed": false
   },
   "outputs": [
    {
     "name": "stdout",
     "output_type": "stream",
     "text": [
      "154.410746767\n"
     ]
    }
   ],
   "source": [
    "from sklearn import metrics\n",
    "import numpy as np\n",
    "\n",
    "# Calculating \"Mean Square Error\" (MSE):\n",
    "mse = metrics.mean_squared_error(y_test, y_prediction)\n",
    "\n",
    "# Using numpy sqrt function to take the square root and calculate \"Root Mean Square Error\" (RMSE)\n",
    "rmse = np.sqrt(mse)\n",
    "\n",
    "print(rmse)"
   ]
  },
  {
   "cell_type": "code",
   "execution_count": null,
   "metadata": {
    "collapsed": true
   },
   "outputs": [],
   "source": []
  }
 ],
 "metadata": {
  "kernelspec": {
   "display_name": "Python [Root]",
   "language": "python",
   "name": "Python [Root]"
  },
  "language_info": {
   "codemirror_mode": {
    "name": "ipython",
    "version": 2
   },
   "file_extension": ".py",
   "mimetype": "text/x-python",
   "name": "python",
   "nbconvert_exporter": "python",
   "pygments_lexer": "ipython2",
   "version": "2.7.12"
  }
 },
 "nbformat": 4,
 "nbformat_minor": 0
}
